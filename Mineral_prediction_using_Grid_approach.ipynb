{
  "cells": [
    {
      "cell_type": "code",
      "source": [
        "from google.colab import drive\n",
        "drive.mount('/content/drive')"
      ],
      "metadata": {
        "colab": {
          "base_uri": "https://localhost:8080/"
        },
        "id": "TUvy7qpCx-s1",
        "outputId": "3970c2e4-bff1-4e50-87d4-2b6a2e997e70"
      },
      "execution_count": null,
      "outputs": [
        {
          "output_type": "stream",
          "name": "stdout",
          "text": [
            "Mounted at /content/drive\n"
          ]
        }
      ]
    },
    {
      "cell_type": "markdown",
      "source": [
        "**#Importing libraries**"
      ],
      "metadata": {
        "id": "rDGM_0rWf479"
      }
    },
    {
      "cell_type": "code",
      "source": [
        "import pandas as pd\n",
        "import numpy as np\n",
        "from shapely.geometry import Point, box\n",
        "import geopandas as gpd\n",
        "from tensorflow.keras.models import Sequential\n",
        "from tensorflow.keras.layers import LSTM, Dense, Dropout\n",
        "from tensorflow.keras.optimizers import Adam"
      ],
      "metadata": {
        "id": "n7FQRGK03fzJ"
      },
      "execution_count": null,
      "outputs": []
    },
    {
      "cell_type": "markdown",
      "source": [
        "**#Data Loading**"
      ],
      "metadata": {
        "id": "FKiVwdh5gXsx"
      }
    },
    {
      "cell_type": "code",
      "source": [
        "import geopandas as gpd\n",
        "crs = 'EPSG:32643'\n",
        "\n",
        "def load_geo(file): return gpd.read_file(file).to_crs(crs)\n",
        "\n",
        "faults = gpd.read_file('/content/drive/MyDrive/Individual dataset/Individual dataset/merged_dataset.geojson').to_crs(crs)\n",
        "folds = gpd.read_file('/content/drive/MyDrive/Individual dataset/Individual dataset/fold.geojson').to_crs(crs)\n",
        "dykes = gpd.read_file('/content/drive/MyDrive/Individual dataset/Individual dataset/dyke.geojson').to_crs(crs)\n",
        "lineaments = gpd.read_file('/content/drive/MyDrive/Individual dataset/Individual dataset/merged_lineament_1.geojson').to_crs(crs)\n",
        "oriented_plane = gpd.read_file('/content/drive/MyDrive/Individual dataset/Individual dataset/oriented_structure_plane_gdf.geojson').to_crs(crs)\n",
        "oriented_line = gpd.read_file('/content/drive/MyDrive/Individual dataset/Individual dataset/oriented_structure_line.geojson').to_crs(crs)\n",
        "shear_zone = gpd.read_file('/content/drive/MyDrive/Individual dataset/Individual dataset/shear_zone.geojson').to_crs(crs)\n",
        "minerals = gpd.read_file('/content/drive/MyDrive/Individual dataset/Individual dataset/combined_data.geojson').to_crs(crs)\n",
        "geochem=gpd.read_file('/content/drive/MyDrive/Individual dataset/Individual dataset/geochemical_clean.geojson').to_crs(crs)\n"
      ],
      "metadata": {
        "id": "-K_YL3ARYox6"
      },
      "execution_count": null,
      "outputs": []
    },
    {
      "cell_type": "markdown",
      "source": [
        "**#Transforming CSV Data into GeoJSON Format**"
      ],
      "metadata": {
        "id": "UbScf7wtg8ey"
      }
    },
    {
      "cell_type": "code",
      "source": [
        "\n",
        "elevation_df = pd.read_csv(\"/content/drive/MyDrive/Individual dataset/Individual dataset/combined_NGPM_gravity.csv\")\n",
        "elevation_df['geometry'] = elevation_df.apply(lambda row: Point(row['X'], row['Y']), axis=1)\n",
        "elevation = gpd.GeoDataFrame(elevation_df, geometry='geometry', crs=\"EPSG:4326\").to_crs(crs)\n",
        "\n",
        "\n",
        "gravity_df = pd.read_csv(\"/content/drive/MyDrive/Individual dataset/Individual dataset/Physical_properties_rock_samples.csv\")\n",
        "gravity_df['geometry'] = gravity_df.apply(lambda row: Point(row['Longitude'], row['Latitude']), axis=1)\n",
        "gravity = gpd.GeoDataFrame(gravity_df, geometry='geometry', crs=\"EPSG:4326\").to_crs(crs)\n"
      ],
      "metadata": {
        "id": "7tEo3MsoH4Ws"
      },
      "execution_count": null,
      "outputs": []
    },
    {
      "cell_type": "markdown",
      "source": [
        "\n",
        "**#Dropping Irrelevant Columns**"
      ],
      "metadata": {
        "id": "B27kR9yeh5DS"
      }
    },
    {
      "cell_type": "code",
      "source": [
        "faults.drop(columns=['toposheet_', 'shape_leng'], errors='ignore',inplace=True)\n",
        "folds.drop(columns=['input_cent', 'toposheet_'], errors='ignore',inplace=True)\n",
        "dykes.drop(columns=['toposheet_','shape_leng','lithology','formation','stratigrap'], errors='ignore',inplace=True)\n",
        "minerals.drop(columns=[\n",
        "    'exploratio', 'project_ti', 'state_name', 'district',\n",
        "    'geographic', 'exp_dd_lon', 'exp_dd_lat', 'exp_dms_la', 'exp_dms_lo'\n",
        "], errors='ignore',inplace=True)\n",
        "geochem.drop(columns=['toposheet_'], errors='ignore',inplace=True)\n",
        "lineaments.drop(columns=['toposheet_','lineament_form'], errors='ignore',inplace=True)"
      ],
      "metadata": {
        "id": "oysjnnzKcL_h"
      },
      "execution_count": null,
      "outputs": []
    },
    {
      "cell_type": "markdown",
      "source": [
        "**#Generating 4 km Grid\n",
        "Creating a Uniform 4 km x 4 km Spatial Grid to Overlay on the Study Region**"
      ],
      "metadata": {
        "id": "d3R1sliNioMM"
      }
    },
    {
      "cell_type": "markdown",
      "source": [
        "****"
      ],
      "metadata": {
        "id": "X4CH1wSwiHnu"
      }
    },
    {
      "cell_type": "code",
      "source": [
        "xmin, ymin, xmax, ymax = geochem.total_bounds\n",
        "grid_size = 4000\n",
        "cols = list(np.arange(xmin, xmax, grid_size))\n",
        "rows = list(np.arange(ymin, ymax, grid_size))\n",
        "polygons = [box(x, y, x + grid_size, y + grid_size) for x in cols for y in rows]\n",
        "grid = gpd.GeoDataFrame({'geometry': polygons}, crs=crs)\n",
        "\n",
        "\n",
        "joined = gpd.sjoin(minerals, grid, how='left', predicate='within')\n",
        "mineral_counts = joined.groupby('index_right').size()\n",
        "grid['target'] = 0\n",
        "grid.loc[mineral_counts.index, 'target'] = 1\n"
      ],
      "metadata": {
        "id": "X9A8CHoVYo1D"
      },
      "execution_count": null,
      "outputs": []
    },
    {
      "cell_type": "markdown",
      "source": [
        "**## Overlaying Structural Features on Grid\n",
        "Mapping geological structures such as faults, folds, dykes, and lineaments onto the 4 km spatial grid and extracting relevant attributes like feature count and distance**"
      ],
      "metadata": {
        "id": "aFTN1S_3iyRa"
      }
    },
    {
      "cell_type": "code",
      "source": [
        "def overlay_distance_and_count(grid, features_gdf, name):\n",
        "    joined = gpd.sjoin(grid, features_gdf, how='left', predicate='intersects')\n",
        "    grid[f'{name}_count'] = joined.groupby(joined.index).size().reindex(grid.index, fill_value=0)\n",
        "    grid[f'{name}_distance'] = grid.geometry.centroid.apply(\n",
        "        lambda pt: features_gdf.distance(pt).min() if not features_gdf.empty else np.nan\n",
        "    )\n",
        "\n",
        "overlay_distance_and_count(grid, folds, 'fold')\n",
        "overlay_distance_and_count(grid, faults, 'fault')\n",
        "overlay_distance_and_count(grid, dykes, 'dyke')\n",
        "overlay_distance_and_count(grid, lineaments, 'lineament')\n"
      ],
      "metadata": {
        "id": "MKKr0YGhbyuG"
      },
      "execution_count": null,
      "outputs": []
    },
    {
      "cell_type": "markdown",
      "source": [
        "**#Overlaying Geochemical,Graivty and Elevation data on Grid Mapping**"
      ],
      "metadata": {
        "id": "KZMYaq9djPtz"
      }
    },
    {
      "cell_type": "code",
      "source": [
        "# Geochem\n",
        "chem_cols = [c for c in geochem.columns if c not in ['geometry', 'X', 'Y', 'sampleno']]\n",
        "join = gpd.sjoin(grid, geochem, how='left', predicate='contains')\n",
        "grid = grid.join(join.groupby(join.index)[chem_cols].mean())\n",
        "\n",
        "# Gravity\n",
        "gravity_cols = ['Density (g/cc)', 'Susceptibility(X 10^(-6) CGS units)']\n",
        "join = gpd.sjoin(grid, gravity, how='left', predicate='contains')\n",
        "grid = grid.join(join.groupby(join.index)[gravity_cols].mean())\n",
        "\n",
        "# Elevation\n",
        "elev_cols = ['bouguer_an', 'elevation', 'observed_g', 'theoretical_g']\n",
        "join = gpd.sjoin(grid, elevation, how='left', predicate='contains')\n",
        "grid = grid.join(join.groupby(join.index)[elev_cols].mean())\n"
      ],
      "metadata": {
        "id": "OlUDdIWTb1LO"
      },
      "execution_count": null,
      "outputs": []
    },
    {
      "cell_type": "markdown",
      "source": [
        "**Data Preparation for Modeling**"
      ],
      "metadata": {
        "id": "TeirzwhYkQ19"
      }
    },
    {
      "cell_type": "markdown",
      "source": [
        "****"
      ],
      "metadata": {
        "id": "2qt7iQeEj9eK"
      }
    },
    {
      "cell_type": "code",
      "source": [
        "X = grid.drop(columns=['geometry', 'target'])\n",
        "y = grid['target']\n",
        "X.fillna(X.mean(numeric_only=True), inplace=True)\n",
        "\n",
        "from sklearn.model_selection import train_test_split\n",
        "from sklearn.preprocessing import StandardScaler\n",
        "\n",
        "X_train, X_test, y_train, y_test = train_test_split(X, y, stratify=y, random_state=42, test_size=0.2)\n",
        "scaler = StandardScaler()\n",
        "X_train_scaled = scaler.fit_transform(X_train)\n",
        "X_test_scaled = scaler.transform(X_test)\n",
        "\n",
        "X_train_lstm = X_train_scaled.reshape((X_train_scaled.shape[0], 1, X_train_scaled.shape[1]))\n",
        "X_test_lstm = X_test_scaled.reshape((X_test_scaled.shape[0], 1, X_test_scaled.shape[1]))\n"
      ],
      "metadata": {
        "id": "lw6YM0qgb4Bi"
      },
      "execution_count": null,
      "outputs": []
    },
    {
      "cell_type": "markdown",
      "source": [
        "**Training the LSTM Model and Assessing Accuracy**"
      ],
      "metadata": {
        "id": "9LFxrXefktXg"
      }
    },
    {
      "cell_type": "code",
      "source": [
        "model = Sequential()\n",
        "model.add(LSTM(64, input_shape=(1, X_train_lstm.shape[2]), return_sequences=False))\n",
        "model.add(Dropout(0.3))\n",
        "model.add(Dense(32, activation='relu'))\n",
        "model.add(Dropout(0.2))\n",
        "model.add(Dense(1, activation='sigmoid'))  # Binary classification\n",
        "\n",
        "\n",
        "model.compile(loss='binary_crossentropy', optimizer=Adam(0.001), metrics=['accuracy'])\n",
        "model.summary()\n",
        "\n",
        "history = model.fit(\n",
        "   X_train_lstm, y_train,\n",
        "   validation_data=(X_test_lstm, y_test),\n",
        "   epochs=50,\n",
        "   batch_size=64,\n",
        "   verbose=1\n",
        ")\n",
        "\n",
        "\n",
        "loss, accuracy = model.evaluate(X_test_lstm, y_test, verbose=0)\n",
        "print(f\"Test Accuracy: {accuracy:.4f}\")\n",
        "\n",
        "\n",
        "\n",
        "\n",
        "y_pred_proba = model.predict(X_test_lstm)\n",
        "y_pred = (y_pred_proba > 0.5).astype(int)\n",
        "\n",
        "\n",
        "from sklearn.metrics import classification_report, confusion_matrix\n",
        "print(confusion_matrix(y_test, y_pred))\n",
        "print(classification_report(y_test, y_pred))\n",
        "\n",
        "\n",
        "\n",
        "\n",
        "\n"
      ],
      "metadata": {
        "colab": {
          "base_uri": "https://localhost:8080/",
          "height": 1000
        },
        "id": "Bd0_hsA8b6wi",
        "outputId": "350a08bd-34e2-43a5-bbf6-3346110b4aa7"
      },
      "execution_count": null,
      "outputs": [
        {
          "output_type": "stream",
          "name": "stderr",
          "text": [
            "/usr/local/lib/python3.11/dist-packages/keras/src/layers/rnn/rnn.py:200: UserWarning: Do not pass an `input_shape`/`input_dim` argument to a layer. When using Sequential models, prefer using an `Input(shape)` object as the first layer in the model instead.\n",
            "  super().__init__(**kwargs)\n"
          ]
        },
        {
          "output_type": "display_data",
          "data": {
            "text/plain": [
              "\u001b[1mModel: \"sequential\"\u001b[0m\n"
            ],
            "text/html": [
              "<pre style=\"white-space:pre;overflow-x:auto;line-height:normal;font-family:Menlo,'DejaVu Sans Mono',consolas,'Courier New',monospace\"><span style=\"font-weight: bold\">Model: \"sequential\"</span>\n",
              "</pre>\n"
            ]
          },
          "metadata": {}
        },
        {
          "output_type": "display_data",
          "data": {
            "text/plain": [
              "┏━━━━━━━━━━━━━━━━━━━━━━━━━━━━━━━━━┳━━━━━━━━━━━━━━━━━━━━━━━━┳━━━━━━━━━━━━━━━┓\n",
              "┃\u001b[1m \u001b[0m\u001b[1mLayer (type)                   \u001b[0m\u001b[1m \u001b[0m┃\u001b[1m \u001b[0m\u001b[1mOutput Shape          \u001b[0m\u001b[1m \u001b[0m┃\u001b[1m \u001b[0m\u001b[1m      Param #\u001b[0m\u001b[1m \u001b[0m┃\n",
              "┡━━━━━━━━━━━━━━━━━━━━━━━━━━━━━━━━━╇━━━━━━━━━━━━━━━━━━━━━━━━╇━━━━━━━━━━━━━━━┩\n",
              "│ lstm (\u001b[38;5;33mLSTM\u001b[0m)                     │ (\u001b[38;5;45mNone\u001b[0m, \u001b[38;5;34m64\u001b[0m)             │        \u001b[38;5;34m36,864\u001b[0m │\n",
              "├─────────────────────────────────┼────────────────────────┼───────────────┤\n",
              "│ dropout (\u001b[38;5;33mDropout\u001b[0m)               │ (\u001b[38;5;45mNone\u001b[0m, \u001b[38;5;34m64\u001b[0m)             │             \u001b[38;5;34m0\u001b[0m │\n",
              "├─────────────────────────────────┼────────────────────────┼───────────────┤\n",
              "│ dense (\u001b[38;5;33mDense\u001b[0m)                   │ (\u001b[38;5;45mNone\u001b[0m, \u001b[38;5;34m32\u001b[0m)             │         \u001b[38;5;34m2,080\u001b[0m │\n",
              "├─────────────────────────────────┼────────────────────────┼───────────────┤\n",
              "│ dropout_1 (\u001b[38;5;33mDropout\u001b[0m)             │ (\u001b[38;5;45mNone\u001b[0m, \u001b[38;5;34m32\u001b[0m)             │             \u001b[38;5;34m0\u001b[0m │\n",
              "├─────────────────────────────────┼────────────────────────┼───────────────┤\n",
              "│ dense_1 (\u001b[38;5;33mDense\u001b[0m)                 │ (\u001b[38;5;45mNone\u001b[0m, \u001b[38;5;34m1\u001b[0m)              │            \u001b[38;5;34m33\u001b[0m │\n",
              "└─────────────────────────────────┴────────────────────────┴───────────────┘\n"
            ],
            "text/html": [
              "<pre style=\"white-space:pre;overflow-x:auto;line-height:normal;font-family:Menlo,'DejaVu Sans Mono',consolas,'Courier New',monospace\">┏━━━━━━━━━━━━━━━━━━━━━━━━━━━━━━━━━┳━━━━━━━━━━━━━━━━━━━━━━━━┳━━━━━━━━━━━━━━━┓\n",
              "┃<span style=\"font-weight: bold\"> Layer (type)                    </span>┃<span style=\"font-weight: bold\"> Output Shape           </span>┃<span style=\"font-weight: bold\">       Param # </span>┃\n",
              "┡━━━━━━━━━━━━━━━━━━━━━━━━━━━━━━━━━╇━━━━━━━━━━━━━━━━━━━━━━━━╇━━━━━━━━━━━━━━━┩\n",
              "│ lstm (<span style=\"color: #0087ff; text-decoration-color: #0087ff\">LSTM</span>)                     │ (<span style=\"color: #00d7ff; text-decoration-color: #00d7ff\">None</span>, <span style=\"color: #00af00; text-decoration-color: #00af00\">64</span>)             │        <span style=\"color: #00af00; text-decoration-color: #00af00\">36,864</span> │\n",
              "├─────────────────────────────────┼────────────────────────┼───────────────┤\n",
              "│ dropout (<span style=\"color: #0087ff; text-decoration-color: #0087ff\">Dropout</span>)               │ (<span style=\"color: #00d7ff; text-decoration-color: #00d7ff\">None</span>, <span style=\"color: #00af00; text-decoration-color: #00af00\">64</span>)             │             <span style=\"color: #00af00; text-decoration-color: #00af00\">0</span> │\n",
              "├─────────────────────────────────┼────────────────────────┼───────────────┤\n",
              "│ dense (<span style=\"color: #0087ff; text-decoration-color: #0087ff\">Dense</span>)                   │ (<span style=\"color: #00d7ff; text-decoration-color: #00d7ff\">None</span>, <span style=\"color: #00af00; text-decoration-color: #00af00\">32</span>)             │         <span style=\"color: #00af00; text-decoration-color: #00af00\">2,080</span> │\n",
              "├─────────────────────────────────┼────────────────────────┼───────────────┤\n",
              "│ dropout_1 (<span style=\"color: #0087ff; text-decoration-color: #0087ff\">Dropout</span>)             │ (<span style=\"color: #00d7ff; text-decoration-color: #00d7ff\">None</span>, <span style=\"color: #00af00; text-decoration-color: #00af00\">32</span>)             │             <span style=\"color: #00af00; text-decoration-color: #00af00\">0</span> │\n",
              "├─────────────────────────────────┼────────────────────────┼───────────────┤\n",
              "│ dense_1 (<span style=\"color: #0087ff; text-decoration-color: #0087ff\">Dense</span>)                 │ (<span style=\"color: #00d7ff; text-decoration-color: #00d7ff\">None</span>, <span style=\"color: #00af00; text-decoration-color: #00af00\">1</span>)              │            <span style=\"color: #00af00; text-decoration-color: #00af00\">33</span> │\n",
              "└─────────────────────────────────┴────────────────────────┴───────────────┘\n",
              "</pre>\n"
            ]
          },
          "metadata": {}
        },
        {
          "output_type": "display_data",
          "data": {
            "text/plain": [
              "\u001b[1m Total params: \u001b[0m\u001b[38;5;34m38,977\u001b[0m (152.25 KB)\n"
            ],
            "text/html": [
              "<pre style=\"white-space:pre;overflow-x:auto;line-height:normal;font-family:Menlo,'DejaVu Sans Mono',consolas,'Courier New',monospace\"><span style=\"font-weight: bold\"> Total params: </span><span style=\"color: #00af00; text-decoration-color: #00af00\">38,977</span> (152.25 KB)\n",
              "</pre>\n"
            ]
          },
          "metadata": {}
        },
        {
          "output_type": "display_data",
          "data": {
            "text/plain": [
              "\u001b[1m Trainable params: \u001b[0m\u001b[38;5;34m38,977\u001b[0m (152.25 KB)\n"
            ],
            "text/html": [
              "<pre style=\"white-space:pre;overflow-x:auto;line-height:normal;font-family:Menlo,'DejaVu Sans Mono',consolas,'Courier New',monospace\"><span style=\"font-weight: bold\"> Trainable params: </span><span style=\"color: #00af00; text-decoration-color: #00af00\">38,977</span> (152.25 KB)\n",
              "</pre>\n"
            ]
          },
          "metadata": {}
        },
        {
          "output_type": "display_data",
          "data": {
            "text/plain": [
              "\u001b[1m Non-trainable params: \u001b[0m\u001b[38;5;34m0\u001b[0m (0.00 B)\n"
            ],
            "text/html": [
              "<pre style=\"white-space:pre;overflow-x:auto;line-height:normal;font-family:Menlo,'DejaVu Sans Mono',consolas,'Courier New',monospace\"><span style=\"font-weight: bold\"> Non-trainable params: </span><span style=\"color: #00af00; text-decoration-color: #00af00\">0</span> (0.00 B)\n",
              "</pre>\n"
            ]
          },
          "metadata": {}
        },
        {
          "output_type": "stream",
          "name": "stdout",
          "text": [
            "Epoch 1/50\n",
            "\u001b[1m34/34\u001b[0m \u001b[32m━━━━━━━━━━━━━━━━━━━━\u001b[0m\u001b[37m\u001b[0m \u001b[1m3s\u001b[0m 17ms/step - accuracy: 0.8426 - loss: 0.6051 - val_accuracy: 0.9052 - val_loss: 0.4508\n",
            "Epoch 2/50\n",
            "\u001b[1m34/34\u001b[0m \u001b[32m━━━━━━━━━━━━━━━━━━━━\u001b[0m\u001b[37m\u001b[0m \u001b[1m0s\u001b[0m 6ms/step - accuracy: 0.8950 - loss: 0.4173 - val_accuracy: 0.9052 - val_loss: 0.3361\n",
            "Epoch 3/50\n",
            "\u001b[1m34/34\u001b[0m \u001b[32m━━━━━━━━━━━━━━━━━━━━\u001b[0m\u001b[37m\u001b[0m \u001b[1m0s\u001b[0m 6ms/step - accuracy: 0.9123 - loss: 0.3081 - val_accuracy: 0.9071 - val_loss: 0.3047\n",
            "Epoch 4/50\n",
            "\u001b[1m34/34\u001b[0m \u001b[32m━━━━━━━━━━━━━━━━━━━━\u001b[0m\u001b[37m\u001b[0m \u001b[1m0s\u001b[0m 7ms/step - accuracy: 0.9049 - loss: 0.3054 - val_accuracy: 0.9052 - val_loss: 0.2935\n",
            "Epoch 5/50\n",
            "\u001b[1m34/34\u001b[0m \u001b[32m━━━━━━━━━━━━━━━━━━━━\u001b[0m\u001b[37m\u001b[0m \u001b[1m0s\u001b[0m 6ms/step - accuracy: 0.9194 - loss: 0.2688 - val_accuracy: 0.9089 - val_loss: 0.2882\n",
            "Epoch 6/50\n",
            "\u001b[1m34/34\u001b[0m \u001b[32m━━━━━━━━━━━━━━━━━━━━\u001b[0m\u001b[37m\u001b[0m \u001b[1m0s\u001b[0m 6ms/step - accuracy: 0.9269 - loss: 0.2405 - val_accuracy: 0.9089 - val_loss: 0.2806\n",
            "Epoch 7/50\n",
            "\u001b[1m34/34\u001b[0m \u001b[32m━━━━━━━━━━━━━━━━━━━━\u001b[0m\u001b[37m\u001b[0m \u001b[1m0s\u001b[0m 6ms/step - accuracy: 0.9229 - loss: 0.2425 - val_accuracy: 0.9108 - val_loss: 0.2798\n",
            "Epoch 8/50\n",
            "\u001b[1m34/34\u001b[0m \u001b[32m━━━━━━━━━━━━━━━━━━━━\u001b[0m\u001b[37m\u001b[0m \u001b[1m0s\u001b[0m 6ms/step - accuracy: 0.9211 - loss: 0.2389 - val_accuracy: 0.9071 - val_loss: 0.2813\n",
            "Epoch 9/50\n",
            "\u001b[1m34/34\u001b[0m \u001b[32m━━━━━━━━━━━━━━━━━━━━\u001b[0m\u001b[37m\u001b[0m \u001b[1m0s\u001b[0m 6ms/step - accuracy: 0.9335 - loss: 0.2156 - val_accuracy: 0.9033 - val_loss: 0.2798\n",
            "Epoch 10/50\n",
            "\u001b[1m34/34\u001b[0m \u001b[32m━━━━━━━━━━━━━━━━━━━━\u001b[0m\u001b[37m\u001b[0m \u001b[1m0s\u001b[0m 6ms/step - accuracy: 0.9240 - loss: 0.2334 - val_accuracy: 0.9033 - val_loss: 0.2834\n",
            "Epoch 11/50\n",
            "\u001b[1m34/34\u001b[0m \u001b[32m━━━━━━━━━━━━━━━━━━━━\u001b[0m\u001b[37m\u001b[0m \u001b[1m0s\u001b[0m 6ms/step - accuracy: 0.9235 - loss: 0.2389 - val_accuracy: 0.9071 - val_loss: 0.2799\n",
            "Epoch 12/50\n",
            "\u001b[1m34/34\u001b[0m \u001b[32m━━━━━━━━━━━━━━━━━━━━\u001b[0m\u001b[37m\u001b[0m \u001b[1m0s\u001b[0m 7ms/step - accuracy: 0.9230 - loss: 0.2310 - val_accuracy: 0.9033 - val_loss: 0.2839\n",
            "Epoch 13/50\n",
            "\u001b[1m34/34\u001b[0m \u001b[32m━━━━━━━━━━━━━━━━━━━━\u001b[0m\u001b[37m\u001b[0m \u001b[1m0s\u001b[0m 6ms/step - accuracy: 0.9270 - loss: 0.2181 - val_accuracy: 0.9033 - val_loss: 0.2855\n",
            "Epoch 14/50\n",
            "\u001b[1m34/34\u001b[0m \u001b[32m━━━━━━━━━━━━━━━━━━━━\u001b[0m\u001b[37m\u001b[0m \u001b[1m0s\u001b[0m 6ms/step - accuracy: 0.9356 - loss: 0.1911 - val_accuracy: 0.9071 - val_loss: 0.2870\n",
            "Epoch 15/50\n",
            "\u001b[1m34/34\u001b[0m \u001b[32m━━━━━━━━━━━━━━━━━━━━\u001b[0m\u001b[37m\u001b[0m \u001b[1m0s\u001b[0m 6ms/step - accuracy: 0.9319 - loss: 0.2072 - val_accuracy: 0.9071 - val_loss: 0.2934\n",
            "Epoch 16/50\n",
            "\u001b[1m34/34\u001b[0m \u001b[32m━━━━━━━━━━━━━━━━━━━━\u001b[0m\u001b[37m\u001b[0m \u001b[1m0s\u001b[0m 6ms/step - accuracy: 0.9337 - loss: 0.2016 - val_accuracy: 0.9052 - val_loss: 0.2945\n",
            "Epoch 17/50\n",
            "\u001b[1m34/34\u001b[0m \u001b[32m━━━━━━━━━━━━━━━━━━━━\u001b[0m\u001b[37m\u001b[0m \u001b[1m0s\u001b[0m 5ms/step - accuracy: 0.9331 - loss: 0.1995 - val_accuracy: 0.9089 - val_loss: 0.2992\n",
            "Epoch 18/50\n",
            "\u001b[1m34/34\u001b[0m \u001b[32m━━━━━━━━━━━━━━━━━━━━\u001b[0m\u001b[37m\u001b[0m \u001b[1m0s\u001b[0m 6ms/step - accuracy: 0.9419 - loss: 0.1683 - val_accuracy: 0.9033 - val_loss: 0.3005\n",
            "Epoch 19/50\n",
            "\u001b[1m34/34\u001b[0m \u001b[32m━━━━━━━━━━━━━━━━━━━━\u001b[0m\u001b[37m\u001b[0m \u001b[1m0s\u001b[0m 7ms/step - accuracy: 0.9465 - loss: 0.1797 - val_accuracy: 0.9015 - val_loss: 0.3001\n",
            "Epoch 20/50\n",
            "\u001b[1m34/34\u001b[0m \u001b[32m━━━━━━━━━━━━━━━━━━━━\u001b[0m\u001b[37m\u001b[0m \u001b[1m0s\u001b[0m 6ms/step - accuracy: 0.9331 - loss: 0.1820 - val_accuracy: 0.9052 - val_loss: 0.3099\n",
            "Epoch 21/50\n",
            "\u001b[1m34/34\u001b[0m \u001b[32m━━━━━━━━━━━━━━━━━━━━\u001b[0m\u001b[37m\u001b[0m \u001b[1m0s\u001b[0m 6ms/step - accuracy: 0.9377 - loss: 0.1703 - val_accuracy: 0.9052 - val_loss: 0.3039\n",
            "Epoch 22/50\n",
            "\u001b[1m34/34\u001b[0m \u001b[32m━━━━━━━━━━━━━━━━━━━━\u001b[0m\u001b[37m\u001b[0m \u001b[1m0s\u001b[0m 7ms/step - accuracy: 0.9273 - loss: 0.1846 - val_accuracy: 0.9071 - val_loss: 0.3084\n",
            "Epoch 23/50\n",
            "\u001b[1m34/34\u001b[0m \u001b[32m━━━━━━━━━━━━━━━━━━━━\u001b[0m\u001b[37m\u001b[0m \u001b[1m0s\u001b[0m 6ms/step - accuracy: 0.9336 - loss: 0.1711 - val_accuracy: 0.9071 - val_loss: 0.3139\n",
            "Epoch 24/50\n",
            "\u001b[1m34/34\u001b[0m \u001b[32m━━━━━━━━━━━━━━━━━━━━\u001b[0m\u001b[37m\u001b[0m \u001b[1m0s\u001b[0m 6ms/step - accuracy: 0.9464 - loss: 0.1636 - val_accuracy: 0.9015 - val_loss: 0.3076\n",
            "Epoch 25/50\n",
            "\u001b[1m34/34\u001b[0m \u001b[32m━━━━━━━━━━━━━━━━━━━━\u001b[0m\u001b[37m\u001b[0m \u001b[1m0s\u001b[0m 8ms/step - accuracy: 0.9357 - loss: 0.1824 - val_accuracy: 0.9015 - val_loss: 0.3211\n",
            "Epoch 26/50\n",
            "\u001b[1m34/34\u001b[0m \u001b[32m━━━━━━━━━━━━━━━━━━━━\u001b[0m\u001b[37m\u001b[0m \u001b[1m1s\u001b[0m 9ms/step - accuracy: 0.9429 - loss: 0.1628 - val_accuracy: 0.8996 - val_loss: 0.3278\n",
            "Epoch 27/50\n",
            "\u001b[1m34/34\u001b[0m \u001b[32m━━━━━━━━━━━━━━━━━━━━\u001b[0m\u001b[37m\u001b[0m \u001b[1m1s\u001b[0m 9ms/step - accuracy: 0.9443 - loss: 0.1547 - val_accuracy: 0.8959 - val_loss: 0.3283\n",
            "Epoch 28/50\n",
            "\u001b[1m34/34\u001b[0m \u001b[32m━━━━━━━━━━━━━━━━━━━━\u001b[0m\u001b[37m\u001b[0m \u001b[1m1s\u001b[0m 9ms/step - accuracy: 0.9396 - loss: 0.1596 - val_accuracy: 0.8978 - val_loss: 0.3297\n",
            "Epoch 29/50\n",
            "\u001b[1m34/34\u001b[0m \u001b[32m━━━━━━━━━━━━━━━━━━━━\u001b[0m\u001b[37m\u001b[0m \u001b[1m0s\u001b[0m 12ms/step - accuracy: 0.9398 - loss: 0.1677 - val_accuracy: 0.8978 - val_loss: 0.3347\n",
            "Epoch 30/50\n",
            "\u001b[1m34/34\u001b[0m \u001b[32m━━━━━━━━━━━━━━━━━━━━\u001b[0m\u001b[37m\u001b[0m \u001b[1m0s\u001b[0m 10ms/step - accuracy: 0.9446 - loss: 0.1521 - val_accuracy: 0.9015 - val_loss: 0.3389\n",
            "Epoch 31/50\n",
            "\u001b[1m34/34\u001b[0m \u001b[32m━━━━━━━━━━━━━━━━━━━━\u001b[0m\u001b[37m\u001b[0m \u001b[1m0s\u001b[0m 9ms/step - accuracy: 0.9474 - loss: 0.1482 - val_accuracy: 0.8996 - val_loss: 0.3379\n",
            "Epoch 32/50\n",
            "\u001b[1m34/34\u001b[0m \u001b[32m━━━━━━━━━━━━━━━━━━━━\u001b[0m\u001b[37m\u001b[0m \u001b[1m0s\u001b[0m 9ms/step - accuracy: 0.9523 - loss: 0.1394 - val_accuracy: 0.8959 - val_loss: 0.3420\n",
            "Epoch 33/50\n",
            "\u001b[1m34/34\u001b[0m \u001b[32m━━━━━━━━━━━━━━━━━━━━\u001b[0m\u001b[37m\u001b[0m \u001b[1m1s\u001b[0m 6ms/step - accuracy: 0.9521 - loss: 0.1326 - val_accuracy: 0.9033 - val_loss: 0.3372\n",
            "Epoch 34/50\n",
            "\u001b[1m34/34\u001b[0m \u001b[32m━━━━━━━━━━━━━━━━━━━━\u001b[0m\u001b[37m\u001b[0m \u001b[1m0s\u001b[0m 7ms/step - accuracy: 0.9413 - loss: 0.1516 - val_accuracy: 0.9033 - val_loss: 0.3503\n",
            "Epoch 35/50\n",
            "\u001b[1m34/34\u001b[0m \u001b[32m━━━━━━━━━━━━━━━━━━━━\u001b[0m\u001b[37m\u001b[0m \u001b[1m0s\u001b[0m 6ms/step - accuracy: 0.9507 - loss: 0.1332 - val_accuracy: 0.8941 - val_loss: 0.3512\n",
            "Epoch 36/50\n",
            "\u001b[1m34/34\u001b[0m \u001b[32m━━━━━━━━━━━━━━━━━━━━\u001b[0m\u001b[37m\u001b[0m \u001b[1m0s\u001b[0m 6ms/step - accuracy: 0.9414 - loss: 0.1445 - val_accuracy: 0.9015 - val_loss: 0.3660\n",
            "Epoch 37/50\n",
            "\u001b[1m34/34\u001b[0m \u001b[32m━━━━━━━━━━━━━━━━━━━━\u001b[0m\u001b[37m\u001b[0m \u001b[1m0s\u001b[0m 6ms/step - accuracy: 0.9475 - loss: 0.1324 - val_accuracy: 0.8959 - val_loss: 0.3548\n",
            "Epoch 38/50\n",
            "\u001b[1m34/34\u001b[0m \u001b[32m━━━━━━━━━━━━━━━━━━━━\u001b[0m\u001b[37m\u001b[0m \u001b[1m0s\u001b[0m 6ms/step - accuracy: 0.9461 - loss: 0.1344 - val_accuracy: 0.8996 - val_loss: 0.3632\n",
            "Epoch 39/50\n",
            "\u001b[1m34/34\u001b[0m \u001b[32m━━━━━━━━━━━━━━━━━━━━\u001b[0m\u001b[37m\u001b[0m \u001b[1m0s\u001b[0m 6ms/step - accuracy: 0.9454 - loss: 0.1344 - val_accuracy: 0.9015 - val_loss: 0.3589\n",
            "Epoch 40/50\n",
            "\u001b[1m34/34\u001b[0m \u001b[32m━━━━━━━━━━━━━━━━━━━━\u001b[0m\u001b[37m\u001b[0m \u001b[1m0s\u001b[0m 6ms/step - accuracy: 0.9501 - loss: 0.1205 - val_accuracy: 0.8978 - val_loss: 0.3794\n",
            "Epoch 41/50\n",
            "\u001b[1m34/34\u001b[0m \u001b[32m━━━━━━━━━━━━━━━━━━━━\u001b[0m\u001b[37m\u001b[0m \u001b[1m0s\u001b[0m 6ms/step - accuracy: 0.9462 - loss: 0.1292 - val_accuracy: 0.9015 - val_loss: 0.3702\n",
            "Epoch 42/50\n",
            "\u001b[1m34/34\u001b[0m \u001b[32m━━━━━━━━━━━━━━━━━━━━\u001b[0m\u001b[37m\u001b[0m \u001b[1m0s\u001b[0m 7ms/step - accuracy: 0.9478 - loss: 0.1238 - val_accuracy: 0.8978 - val_loss: 0.3813\n",
            "Epoch 43/50\n",
            "\u001b[1m34/34\u001b[0m \u001b[32m━━━━━━━━━━━━━━━━━━━━\u001b[0m\u001b[37m\u001b[0m \u001b[1m0s\u001b[0m 6ms/step - accuracy: 0.9612 - loss: 0.1096 - val_accuracy: 0.9015 - val_loss: 0.3840\n",
            "Epoch 44/50\n",
            "\u001b[1m34/34\u001b[0m \u001b[32m━━━━━━━━━━━━━━━━━━━━\u001b[0m\u001b[37m\u001b[0m \u001b[1m0s\u001b[0m 6ms/step - accuracy: 0.9502 - loss: 0.1294 - val_accuracy: 0.9033 - val_loss: 0.3784\n",
            "Epoch 45/50\n",
            "\u001b[1m34/34\u001b[0m \u001b[32m━━━━━━━━━━━━━━━━━━━━\u001b[0m\u001b[37m\u001b[0m \u001b[1m0s\u001b[0m 7ms/step - accuracy: 0.9458 - loss: 0.1274 - val_accuracy: 0.9033 - val_loss: 0.3849\n",
            "Epoch 46/50\n",
            "\u001b[1m34/34\u001b[0m \u001b[32m━━━━━━━━━━━━━━━━━━━━\u001b[0m\u001b[37m\u001b[0m \u001b[1m0s\u001b[0m 6ms/step - accuracy: 0.9405 - loss: 0.1292 - val_accuracy: 0.8978 - val_loss: 0.3858\n",
            "Epoch 47/50\n",
            "\u001b[1m34/34\u001b[0m \u001b[32m━━━━━━━━━━━━━━━━━━━━\u001b[0m\u001b[37m\u001b[0m \u001b[1m0s\u001b[0m 6ms/step - accuracy: 0.9454 - loss: 0.1322 - val_accuracy: 0.9015 - val_loss: 0.4012\n",
            "Epoch 48/50\n",
            "\u001b[1m34/34\u001b[0m \u001b[32m━━━━━━━━━━━━━━━━━━━━\u001b[0m\u001b[37m\u001b[0m \u001b[1m0s\u001b[0m 6ms/step - accuracy: 0.9540 - loss: 0.1158 - val_accuracy: 0.8996 - val_loss: 0.3901\n",
            "Epoch 49/50\n",
            "\u001b[1m34/34\u001b[0m \u001b[32m━━━━━━━━━━━━━━━━━━━━\u001b[0m\u001b[37m\u001b[0m \u001b[1m0s\u001b[0m 6ms/step - accuracy: 0.9658 - loss: 0.1046 - val_accuracy: 0.8978 - val_loss: 0.4000\n",
            "Epoch 50/50\n",
            "\u001b[1m34/34\u001b[0m \u001b[32m━━━━━━━━━━━━━━━━━━━━\u001b[0m\u001b[37m\u001b[0m \u001b[1m0s\u001b[0m 6ms/step - accuracy: 0.9608 - loss: 0.1012 - val_accuracy: 0.8996 - val_loss: 0.4014\n",
            "Test Accuracy: 0.8996\n",
            "\u001b[1m17/17\u001b[0m \u001b[32m━━━━━━━━━━━━━━━━━━━━\u001b[0m\u001b[37m\u001b[0m \u001b[1m0s\u001b[0m 13ms/step\n",
            "[[473  14]\n",
            " [ 40  11]]\n",
            "              precision    recall  f1-score   support\n",
            "\n",
            "           0       0.92      0.97      0.95       487\n",
            "           1       0.44      0.22      0.29        51\n",
            "\n",
            "    accuracy                           0.90       538\n",
            "   macro avg       0.68      0.59      0.62       538\n",
            "weighted avg       0.88      0.90      0.88       538\n",
            "\n"
          ]
        }
      ]
    },
    {
      "cell_type": "markdown",
      "source": [
        "**##Confusion Matrix Visualization**"
      ],
      "metadata": {
        "id": "Fl5JJQo9mA3n"
      }
    },
    {
      "cell_type": "code",
      "source": [
        "import matplotlib.pyplot as plt\n",
        "import seaborn as sns\n",
        "\n",
        "cm = confusion_matrix(y_test, y_pred)\n",
        "plt.figure(figsize=(8, 6))\n",
        "sns.heatmap(cm, annot=True, fmt='d', cmap='Blues')\n",
        "plt.xlabel('Predicted')\n",
        "plt.ylabel('Actual')\n",
        "plt.title('Confusion Matrix')\n",
        "plt.show()\n"
      ],
      "metadata": {
        "colab": {
          "base_uri": "https://localhost:8080/",
          "height": 564
        },
        "id": "nHijBoUC2DX_",
        "outputId": "0a82d0aa-2f19-46db-b14b-5fbdb726cd9f"
      },
      "execution_count": null,
      "outputs": [
        {
          "output_type": "display_data",
          "data": {
            "text/plain": [
              "<Figure size 800x600 with 2 Axes>"
            ],
            "image/png": "[encoded data removed]"
          },
          "metadata": {}
        }
      ]
    },
    {
      "cell_type": "markdown",
      "source": [
        "**#Predicting Mineral Presence in Unlabeled Data**"
      ],
      "metadata": {
        "id": "TMZ6-w-FmS89"
      }
    },
    {
      "cell_type": "code",
      "source": [
        "unlabeled_grid = grid[grid['target'] == 0].copy()\n",
        "X_unlabeled = unlabeled_grid.drop(columns=['geometry', 'target'])\n",
        "X_unlabeled_scaled = scaler.transform(X_unlabeled)\n",
        "X_unlabeled_lstm = X_unlabeled_scaled.reshape((X_unlabeled_scaled.shape[0], 1, X_unlabeled_scaled.shape[1]))\n",
        "\n",
        "pred_probs = model.predict(X_unlabeled_lstm)\n",
        "pred_probs = pred_probs.flatten()\n",
        "\n",
        "unlabeled_grid['predicted_target'] = (pred_probs > 0.5).astype(int)\n",
        "unlabeled_grid['predicted_prob'] = pred_probs\n",
        "\n",
        "print(unlabeled_grid['predicted_target'].value_counts())\n"
      ],
      "metadata": {
        "colab": {
          "base_uri": "https://localhost:8080/"
        },
        "id": "QCD1D4ytcwoT",
        "outputId": "47d6bbfb-c41a-4318-c6e2-aab10e26e9bf"
      },
      "execution_count": null,
      "outputs": [
        {
          "output_type": "stream",
          "name": "stdout",
          "text": [
            "\u001b[1m76/76\u001b[0m \u001b[32m━━━━━━━━━━━━━━━━━━━━\u001b[0m\u001b[37m\u001b[0m \u001b[1m0s\u001b[0m 2ms/step\n",
            "predicted_target\n",
            "0    2429\n",
            "1       3\n",
            "Name: count, dtype: int64\n"
          ]
        }
      ]
    },
    {
      "cell_type": "code",
      "source": [
        "grid.shape"
      ],
      "metadata": {
        "colab": {
          "base_uri": "https://localhost:8080/"
        },
        "id": "SbRTptp7dg4X",
        "outputId": "255457a8-4fc4-46a0-93be-dc7d63be8b05"
      },
      "execution_count": null,
      "outputs": [
        {
          "output_type": "execute_result",
          "data": {
            "text/plain": [
              "(2688, 81)"
            ]
          },
          "metadata": {},
          "execution_count": 16
        }
      ]
    },
    {
      "cell_type": "code",
      "source": [
        "unlabeled_grid = gpd.GeoDataFrame(unlabeled_grid, geometry='geometry', crs=crs)\n",
        "unlabeled_grid[unlabeled_grid['predicted_target'] == 1].plot(color='gold', figsize=(10, 10))\n",
        "plt.title(\"Predicted New Mineral Regions\")\n",
        "plt.show()\n"
      ],
      "metadata": {
        "colab": {
          "base_uri": "https://localhost:8080/",
          "height": 853
        },
        "id": "0Q6JVlm5dwiX",
        "outputId": "81fc0c02-ff85-49a8-c160-2f4494ac8783"
      },
      "execution_count": null,
      "outputs": [
        {
          "output_type": "display_data",
          "data": {
            "text/plain": [
              "<Figure size 1000x1000 with 1 Axes>"
            ],
            "image/png": "[encoded data removed]"
          },
          "metadata": {}
        }
      ]
    },
    {
      "cell_type": "code",
      "source": [
        "counts = grid['target'].value_counts()\n",
        "print(f\"Number of 0s (No mineral): {counts.get(0, 0)}\")\n",
        "print(f\"Number of 1s (Mineral present): {counts.get(1, 0)}\")\n"
      ],
      "metadata": {
        "colab": {
          "base_uri": "https://localhost:8080/"
        },
        "id": "kK3gVhmTd-c4",
        "outputId": "9ba7726d-2036-40e7-8442-8335bb90c1c9"
      },
      "execution_count": null,
      "outputs": [
        {
          "output_type": "stream",
          "name": "stdout",
          "text": [
            "Number of 0s (No mineral): 2432\n",
            "Number of 1s (Mineral present): 256\n"
          ]
        }
      ]
    },
    {
      "cell_type": "code",
      "source": [
        "\n",
        "if 'predicted_target' in unlabeled_grid.columns:\n",
        "\n",
        "    new_mineral_zones = unlabeled_grid[unlabeled_grid['predicted_target'] == 1]\n",
        "\n",
        "\n",
        "    print(new_mineral_zones[['geometry', 'predicted_prob']])\n",
        "else:\n",
        "    print(\"The column 'predicted_target' does not exist in 'unlabeled_grid'. Make sure predictions were made and assigned correctly.\")\n"
      ],
      "metadata": {
        "colab": {
          "base_uri": "https://localhost:8080/"
        },
        "id": "nq74O093ecQw",
        "outputId": "c0edb127-39ac-467e-8dd9-7e67fca1bf75"
      },
      "execution_count": null,
      "outputs": [
        {
          "output_type": "stream",
          "name": "stdout",
          "text": [
            "                                               geometry  predicted_prob\n",
            "2254  POLYGON ((772131.031 1577306.158, 772131.031 1...        0.998403\n",
            "2366  POLYGON ((780131.031 1577306.158, 780131.031 1...        0.851731\n",
            "2370  POLYGON ((780131.031 1593306.158, 780131.031 1...        0.963831\n"
          ]
        }
      ]
    },
    {
      "cell_type": "markdown",
      "source": [
        "**#Mapping Model New Predictions with Folium**"
      ],
      "metadata": {
        "id": "yCml_Di3mjgU"
      }
    },
    {
      "cell_type": "code",
      "source": [
        "import folium\n",
        "\n",
        "if not new_mineral_zones.empty:\n",
        "\n",
        "  new_mineral_zones_wgs84 = new_mineral_zones.to_crs(\"EPSG:4326\")\n",
        "\n",
        "\n",
        "  center_point = new_mineral_zones_wgs84.geometry.unary_union.centroid\n",
        "\n",
        "\n",
        "  m = folium.Map(location=[center_point.y, center_point.x], zoom_start=8)\n",
        "\n",
        "\n",
        "  folium.GeoJson(\n",
        "      new_mineral_zones_wgs84,\n",
        "      name='Predicted New Mineral Zones',\n",
        "      tooltip=folium.features.GeoJsonTooltip(fields=['predicted_prob'], aliases=['Predicted Probability: '])\n",
        "  ).add_to(m)\n",
        "\n",
        "  folium.LayerControl().add_to(m)\n",
        "\n",
        "\n",
        "  display(m)\n",
        "else:\n",
        "  print(\"No new mineral zones predicted to plot on the map.\")\n"
      ],
      "metadata": {
        "id": "OmMWlXnKfIrK",
        "colab": {
          "base_uri": "https://localhost:8080/",
          "height": 900
        },
        "outputId": "5abda7f4-0404-41bd-bd55-0c0b4b87983a"
      },
      "execution_count": null,
      "outputs": [
        {
          "output_type": "stream",
          "name": "stderr",
          "text": [
            "<ipython-input-20-2288565252>:9: DeprecationWarning: The 'unary_union' attribute is deprecated, use the 'union_all()' method instead.\n",
            "  center_point = new_mineral_zones_wgs84.geometry.unary_union.centroid\n"
          ]
        },
        {
          "output_type": "display_data",
          "data": {
            "text/plain": [
              "<folium.folium.Map at 0x7bd655b42790>"
            ],
            "text/html": [
              "<div style=\"width:100%;\"><div style=\"position:relative;width:100%;height:0;padding-bottom:60%;\"><span style=\"color:#565656\">Make this Notebook Trusted to load map: File -> Trust Notebook</span><iframe srcdoc=\"&lt;!DOCTYPE html&gt;\n",
              "&lt;html&gt;\n",
              "&lt;head&gt;\n",
              "    \n",
              "    &lt;meta http-equiv=&quot;content-type&quot; content=&quot;text/html; charset=UTF-8&quot; /&gt;\n",
              "    &lt;script src=&quot;https://cdn.jsdelivr.net/npm/leaflet@1.9.3/dist/leaflet.js&quot;&gt;&lt;/script&gt;\n",
              "    &lt;script src=&quot;https://code.jquery.com/jquery-3.7.1.min.js&quot;&gt;&lt;/script&gt;\n",
              "    &lt;script src=&quot;https://cdn.jsdelivr.net/npm/bootstrap@5.2.2/dist/js/bootstrap.bundle.min.js&quot;&gt;&lt;/script&gt;\n",
              "    &lt;script src=&quot;https://cdnjs.cloudflare.com/ajax/libs/Leaflet.awesome-markers/2.0.2/leaflet.awesome-markers.js&quot;&gt;&lt;/script&gt;\n",
              "    &lt;link rel=&quot;stylesheet&quot; href=&quot;https://cdn.jsdelivr.net/npm/leaflet@1.9.3/dist/leaflet.css&quot;/&gt;\n",
              "    &lt;link rel=&quot;stylesheet&quot; href=&quot;https://cdn.jsdelivr.net/npm/bootstrap@5.2.2/dist/css/bootstrap.min.css&quot;/&gt;\n",
              "    &lt;link rel=&quot;stylesheet&quot; href=&quot;https://netdna.bootstrapcdn.com/bootstrap/3.0.0/css/bootstrap-glyphicons.css&quot;/&gt;\n",
              "    &lt;link rel=&quot;stylesheet&quot; href=&quot;https://cdn.jsdelivr.net/npm/@fortawesome/fontawesome-free@6.2.0/css/all.min.css&quot;/&gt;\n",
              "    &lt;link rel=&quot;stylesheet&quot; href=&quot;https://cdnjs.cloudflare.com/ajax/libs/Leaflet.awesome-markers/2.0.2/leaflet.awesome-markers.css&quot;/&gt;\n",
              "    &lt;link rel=&quot;stylesheet&quot; href=&quot;https://cdn.jsdelivr.net/gh/python-visualization/folium/folium/templates/leaflet.awesome.rotate.min.css&quot;/&gt;\n",
              "    \n",
              "            &lt;meta name=&quot;viewport&quot; content=&quot;width=device-width,\n",
              "                initial-scale=1.0, maximum-scale=1.0, user-scalable=no&quot; /&gt;\n",
              "            &lt;style&gt;\n",
              "                #map_2dde410deda768a5f8b1f5c29621e036 {\n",
              "                    position: relative;\n",
              "                    width: 100.0%;\n",
              "                    height: 100.0%;\n",
              "                    left: 0.0%;\n",
              "                    top: 0.0%;\n",
              "                }\n",
              "                .leaflet-container { font-size: 1rem; }\n",
              "            &lt;/style&gt;\n",
              "\n",
              "            &lt;style&gt;html, body {\n",
              "                width: 100%;\n",
              "                height: 100%;\n",
              "                margin: 0;\n",
              "                padding: 0;\n",
              "            }\n",
              "            &lt;/style&gt;\n",
              "\n",
              "            &lt;style&gt;#map {\n",
              "                position:absolute;\n",
              "                top:0;\n",
              "                bottom:0;\n",
              "                right:0;\n",
              "                left:0;\n",
              "                }\n",
              "            &lt;/style&gt;\n",
              "\n",
              "            &lt;script&gt;\n",
              "                L_NO_TOUCH = false;\n",
              "                L_DISABLE_3D = false;\n",
              "            &lt;/script&gt;\n",
              "\n",
              "        \n",
              "    \n",
              "                    &lt;style&gt;\n",
              "                        .foliumtooltip {\n",
              "                            \n",
              "                        }\n",
              "                       .foliumtooltip table{\n",
              "                            margin: auto;\n",
              "                        }\n",
              "                        .foliumtooltip tr{\n",
              "                            text-align: left;\n",
              "                        }\n",
              "                        .foliumtooltip th{\n",
              "                            padding: 2px; padding-right: 8px;\n",
              "                        }\n",
              "                    &lt;/style&gt;\n",
              "            \n",
              "&lt;/head&gt;\n",
              "&lt;body&gt;\n",
              "    \n",
              "    \n",
              "            &lt;div class=&quot;folium-map&quot; id=&quot;map_2dde410deda768a5f8b1f5c29621e036&quot; &gt;&lt;/div&gt;\n",
              "        \n",
              "&lt;/body&gt;\n",
              "&lt;script&gt;\n",
              "    \n",
              "    \n",
              "            var map_2dde410deda768a5f8b1f5c29621e036 = L.map(\n",
              "                &quot;map_2dde410deda768a5f8b1f5c29621e036&quot;,\n",
              "                {\n",
              "                    center: [14.320043796508696, 77.55365124833233],\n",
              "                    crs: L.CRS.EPSG3857,\n",
              "                    ...{\n",
              "  &quot;zoom&quot;: 8,\n",
              "  &quot;zoomControl&quot;: true,\n",
              "  &quot;preferCanvas&quot;: false,\n",
              "}\n",
              "\n",
              "                }\n",
              "            );\n",
              "\n",
              "            \n",
              "\n",
              "        \n",
              "    \n",
              "            var tile_layer_b58eeaa961a7cee6ef1d74cb7704259e = L.tileLayer(\n",
              "                &quot;https://tile.openstreetmap.org/{z}/{x}/{y}.png&quot;,\n",
              "                {\n",
              "  &quot;minZoom&quot;: 0,\n",
              "  &quot;maxZoom&quot;: 19,\n",
              "  &quot;maxNativeZoom&quot;: 19,\n",
              "  &quot;noWrap&quot;: false,\n",
              "  &quot;attribution&quot;: &quot;\\u0026copy; \\u003ca href=\\&quot;https://www.openstreetmap.org/copyright\\&quot;\\u003eOpenStreetMap\\u003c/a\\u003e contributors&quot;,\n",
              "  &quot;subdomains&quot;: &quot;abc&quot;,\n",
              "  &quot;detectRetina&quot;: false,\n",
              "  &quot;tms&quot;: false,\n",
              "  &quot;opacity&quot;: 1,\n",
              "}\n",
              "\n",
              "            );\n",
              "        \n",
              "    \n",
              "            tile_layer_b58eeaa961a7cee6ef1d74cb7704259e.addTo(map_2dde410deda768a5f8b1f5c29621e036);\n",
              "        \n",
              "    \n",
              "\n",
              "        function geo_json_cc088ce4b2ac3fdca684331a84699c5c_onEachFeature(feature, layer) {\n",
              "\n",
              "            layer.on({\n",
              "            });\n",
              "        };\n",
              "        var geo_json_cc088ce4b2ac3fdca684331a84699c5c = L.geoJson(null, {\n",
              "                onEachFeature: geo_json_cc088ce4b2ac3fdca684331a84699c5c_onEachFeature,\n",
              "            \n",
              "            ...{\n",
              "}\n",
              "        });\n",
              "\n",
              "        function geo_json_cc088ce4b2ac3fdca684331a84699c5c_add (data) {\n",
              "            geo_json_cc088ce4b2ac3fdca684331a84699c5c\n",
              "                .addData(data);\n",
              "        }\n",
              "            geo_json_cc088ce4b2ac3fdca684331a84699c5c_add({&quot;bbox&quot;: [77.48497718641747, 14.253322551478833, 77.59819318134836, 14.434376228514434], &quot;features&quot;: [{&quot;bbox&quot;: [77.48497718641747, 14.254117756518289, 77.5224252519516, 14.290639698288023], &quot;geometry&quot;: {&quot;coordinates&quot;: [[[77.52202292404706, 14.254117756518289], [77.5224252519516, 14.290249681456336], [77.48537361951183, 14.290639698288023], [77.48497718641747, 14.254506746837402], [77.52202292404706, 14.254117756518289]]], &quot;type&quot;: &quot;Polygon&quot;}, &quot;id&quot;: &quot;2254&quot;, &quot;properties&quot;: {&quot;Ag_ppm&quot;: 18.25, &quot;Al2O3__&quot;: 15.3225, &quot;As_ppm&quot;: 26.87, &quot;Au_ppb&quot;: 5.125, &quot;Ba_ppm&quot;: 599.05, &quot;Be_ppm&quot;: 1.2806425, &quot;Bi_ppm&quot;: 0.1875, &quot;CaO__&quot;: 2.895, &quot;Cd_ppm&quot;: 50.0, &quot;Ce_ppb&quot;: 37.0024265, &quot;Co_ppm&quot;: 31.325, &quot;Cr_ppm&quot;: 405.225, &quot;Cs_ppm&quot;: 5.0, &quot;Cu_ppm&quot;: 53.275, &quot;Density (g/cc)&quot;: 2.72, &quot;Dy_ppb&quot;: 4.36546925, &quot;Er_ppb&quot;: 2.583177, &quot;Eu_ppb&quot;: 1.1376724999999999, &quot;F_ppm&quot;: 0.0, &quot;Fe2O3__&quot;: 7.3725, &quot;Ga_ppm&quot;: 19.675, &quot;Gd_ppb&quot;: 4.094906, &quot;Ge_ppm&quot;: 1.2743315, &quot;Hf_ppm&quot;: 7.912320500000001, &quot;Hg_ppb&quot;: 13.75, &quot;Ho_ppb&quot;: 0.90024025, &quot;In_ppm&quot;: 0.0, &quot;K2O__&quot;: 0.845, &quot;LOI&quot;: 7.551557, &quot;La_ppb&quot;: 17.83365075, &quot;Li_ppm&quot;: 10.0, &quot;Lu_ppb&quot;: 0.49610675, &quot;MgO__&quot;: 3.4325, &quot;MnO__&quot;: 2.03, &quot;Mo_ppm&quot;: 2.5, &quot;Na2O__&quot;: 2.1, &quot;Nb_ppm&quot;: 10.125, &quot;Nd_ppb&quot;: 17.71847525, &quot;Ni_ppm&quot;: 105.025, &quot;P2O5__&quot;: 0.09, &quot;Pb_ppm&quot;: 18.725, &quot;Pd_ppb&quot;: 0.0, &quot;Pr_ppb&quot;: 4.3149715, &quot;Pt_ppb&quot;: 0.0, &quot;Rb_ppm&quot;: 79.65, &quot;Sb_ppm&quot;: 0.5125, &quot;Sc_ppm&quot;: 18.225, &quot;Se_ppm&quot;: 0.125, &quot;Si02__&quot;: 57.506, &quot;Sm_ppb&quot;: 3.69357, &quot;Sn_ppm&quot;: 2.5, &quot;Sr_ppm&quot;: 171.4, &quot;Susceptibility(X 10^(-6) CGS units)&quot;: 20.55, &quot;Ta_ppm&quot;: 0.93384375, &quot;Tb_ppb&quot;: 0.723538, &quot;Te_ppm&quot;: 0.0, &quot;Th_ppm&quot;: 9.65, &quot;TiO2__&quot;: 0.1375, &quot;Tl_ppm&quot;: 0.0, &quot;Tm_ppb&quot;: 0.4605635, &quot;U_ppm&quot;: 2.22290025, &quot;V_ppm&quot;: 233.8, &quot;W_ppm&quot;: 2.5, &quot;Y_ppm&quot;: 21.65, &quot;Yb_ppb&quot;: 3.0448175, &quot;Zn_ppm&quot;: 51.8, &quot;Zr_ppm&quot;: 211.225, &quot;bouguer_an&quot;: -75.0, &quot;dyke_count&quot;: 1, &quot;dyke_distance&quot;: 29939.066794033846, &quot;elevation&quot;: 553.3, &quot;fault_count&quot;: 1, &quot;fault_distance&quot;: 27635.76431209525, &quot;fold_count&quot;: 1, &quot;fold_distance&quot;: 1324.5924071366906, &quot;lineament_count&quot;: 12, &quot;lineament_distance&quot;: 848.1035972654845, &quot;observed_g&quot;: 978161.4, &quot;predicted_prob&quot;: 0.9984026551246643, &quot;predicted_target&quot;: 1, &quot;target&quot;: 0, &quot;theoretical_g&quot;: 978345.9}, &quot;type&quot;: &quot;Feature&quot;}, {&quot;bbox&quot;: [77.55906753644176, 14.253322551478833, 77.59652512208133, 14.289853907740738], &quot;geometry&quot;: {&quot;coordinates&quot;: [[[77.59611100712468, 14.253322551478833], [77.59652512208133, 14.289452377948672], [77.55947575830453, 14.289853907740738], [77.55906753644176, 14.253723024463714], [77.59611100712468, 14.253322551478833]]], &quot;type&quot;: &quot;Polygon&quot;}, &quot;id&quot;: &quot;2366&quot;, &quot;properties&quot;: {&quot;Ag_ppm&quot;: 34.0, &quot;Al2O3__&quot;: 15.412749999999999, &quot;As_ppm&quot;: 6.2075, &quot;Au_ppb&quot;: 3.125, &quot;Ba_ppm&quot;: 711.725, &quot;Be_ppm&quot;: 0.943137, &quot;Bi_ppm&quot;: 0.0675, &quot;CaO__&quot;: 1.9649999999999999, &quot;Cd_ppm&quot;: 50.0, &quot;Ce_ppb&quot;: 41.366104, &quot;Co_ppm&quot;: 14.075, &quot;Cr_ppm&quot;: 102.25, &quot;Cs_ppm&quot;: 5.0, &quot;Cu_ppm&quot;: 28.200000000000003, &quot;Density (g/cc)&quot;: 2.63, &quot;Dy_ppb&quot;: 3.930212, &quot;Er_ppb&quot;: 2.3238835, &quot;Eu_ppb&quot;: 1.14941775, &quot;F_ppm&quot;: 0.0, &quot;Fe2O3__&quot;: 4.985, &quot;Ga_ppm&quot;: 13.65, &quot;Gd_ppb&quot;: 3.65970725, &quot;Ge_ppm&quot;: 0.96444525, &quot;Hf_ppm&quot;: 14.077218, &quot;Hg_ppb&quot;: 10.625, &quot;Ho_ppb&quot;: 0.80376875, &quot;In_ppm&quot;: 0.0, &quot;K2O__&quot;: 0.745, &quot;LOI&quot;: 6.537893, &quot;La_ppb&quot;: 21.563578999999997, &quot;Li_ppm&quot;: 16.25, &quot;Lu_ppb&quot;: 0.444033, &quot;MgO__&quot;: 3.4524999999999997, &quot;MnO__&quot;: 1.9049999999999998, &quot;Mo_ppm&quot;: 2.5, &quot;Na2O__&quot;: 2.4275, &quot;Nb_ppm&quot;: 7.7, &quot;Nd_ppb&quot;: 18.42014875, &quot;Ni_ppm&quot;: 35.375, &quot;P2O5__&quot;: 0.105, &quot;Pb_ppm&quot;: 19.25, &quot;Pd_ppb&quot;: 0.0, &quot;Pr_ppb&quot;: 4.77687025, &quot;Pt_ppb&quot;: 0.0, &quot;Rb_ppm&quot;: 72.15, &quot;Sb_ppm&quot;: 0.1, &quot;Sc_ppm&quot;: 15.025, &quot;Se_ppm&quot;: 0.0825, &quot;Si02__&quot;: 61.773250000000004, &quot;Sm_ppb&quot;: 3.71598775, &quot;Sn_ppm&quot;: 2.5, &quot;Sr_ppm&quot;: 238.175, &quot;Susceptibility(X 10^(-6) CGS units)&quot;: 33.05, &quot;Ta_ppm&quot;: 0.8107145, &quot;Tb_ppb&quot;: 0.63192525, &quot;Te_ppm&quot;: 0.0, &quot;Th_ppm&quot;: 8.625, &quot;TiO2__&quot;: 0.07, &quot;Tl_ppm&quot;: 0.0, &quot;Tm_ppb&quot;: 0.4098365, &quot;U_ppm&quot;: 2.275647, &quot;V_ppm&quot;: 115.675, &quot;W_ppm&quot;: 2.5, &quot;Y_ppm&quot;: 22.375, &quot;Yb_ppb&quot;: 2.6589157500000002, &quot;Zn_ppm&quot;: 36.025, &quot;Zr_ppm&quot;: 360.725, &quot;bouguer_an&quot;: -85.66666666666667, &quot;dyke_count&quot;: 1, &quot;dyke_distance&quot;: 36651.472526457306, &quot;elevation&quot;: 446.0, &quot;fault_count&quot;: 1, &quot;fault_distance&quot;: 21255.638019197693, &quot;fold_count&quot;: 1, &quot;fold_distance&quot;: 4016.2632676101766, &quot;lineament_count&quot;: 4, &quot;lineament_distance&quot;: 1187.736003639728, &quot;observed_g&quot;: 978172.3333333334, &quot;predicted_prob&quot;: 0.8517311811447144, &quot;predicted_target&quot;: 1, &quot;target&quot;: 0, &quot;theoretical_g&quot;: 978345.8333333334}, &quot;type&quot;: &quot;Feature&quot;}, {&quot;bbox&quot;: [77.56070728282342, 14.39784112858173, 77.59819318134836, 14.434376228514434], &quot;geometry&quot;: {&quot;coordinates&quot;: [[[77.59777442485087, 14.39784112858173], [77.59819318134836, 14.433970468241967], [77.56112008020607, 14.434376228514434], [77.56070728282342, 14.398245830744418], [77.59777442485087, 14.39784112858173]]], &quot;type&quot;: &quot;Polygon&quot;}, &quot;id&quot;: &quot;2370&quot;, &quot;properties&quot;: {&quot;Ag_ppm&quot;: 12.5, &quot;Al2O3__&quot;: 16.4525, &quot;As_ppm&quot;: 11.9975, &quot;Au_ppb&quot;: 1.5, &quot;Ba_ppm&quot;: 641.85, &quot;Be_ppm&quot;: 1.0189825, &quot;Bi_ppm&quot;: 0.09, &quot;CaO__&quot;: 1.3900000000000001, &quot;Cd_ppm&quot;: 50.0, &quot;Ce_ppb&quot;: 39.8106015, &quot;Co_ppm&quot;: 18.7, &quot;Cr_ppm&quot;: 85.6, &quot;Cs_ppm&quot;: 5.0, &quot;Cu_ppm&quot;: 40.525, &quot;Density (g/cc)&quot;: 2.736666666666667, &quot;Dy_ppb&quot;: 3.8998975, &quot;Er_ppb&quot;: 2.3185587500000002, &quot;Eu_ppb&quot;: 1.2589325, &quot;F_ppm&quot;: 0.0, &quot;Fe2O3__&quot;: 6.1425, &quot;Ga_ppm&quot;: 15.9, &quot;Gd_ppb&quot;: 3.4702825, &quot;Ge_ppm&quot;: 1.1320955000000001, &quot;Hf_ppm&quot;: 10.39630125, &quot;Hg_ppb&quot;: 8.5, &quot;Ho_ppb&quot;: 0.80719275, &quot;In_ppm&quot;: 0.0, &quot;K2O__&quot;: 0.9025000000000001, &quot;LOI&quot;: 5.73033475, &quot;La_ppb&quot;: 20.48443475, &quot;Li_ppm&quot;: 13.75, &quot;Lu_ppb&quot;: 0.45449775, &quot;MgO__&quot;: 3.4025, &quot;MnO__&quot;: 2.465, &quot;Mo_ppm&quot;: 2.5, &quot;Na2O__&quot;: 2.3899999999999997, &quot;Nb_ppm&quot;: 8.0, &quot;Nd_ppb&quot;: 17.4160555, &quot;Ni_ppm&quot;: 37.125, &quot;P2O5__&quot;: 0.09, &quot;Pb_ppm&quot;: 17.95, &quot;Pd_ppb&quot;: 0.0, &quot;Pr_ppb&quot;: 4.3808810000000005, &quot;Pt_ppb&quot;: 0.0, &quot;Rb_ppm&quot;: 68.225, &quot;Sb_ppm&quot;: 0.1625, &quot;Sc_ppm&quot;: 16.725, &quot;Se_ppm&quot;: 0.1775, &quot;Si02__&quot;: 60.2545, &quot;Sm_ppb&quot;: 3.525658, &quot;Sn_ppm&quot;: 2.5, &quot;Sr_ppm&quot;: 235.8, &quot;Susceptibility(X 10^(-6) CGS units)&quot;: 224.48333333333335, &quot;Ta_ppm&quot;: 0.78069975, &quot;Tb_ppb&quot;: 0.590966, &quot;Te_ppm&quot;: 0.0, &quot;Th_ppm&quot;: 9.975, &quot;TiO2__&quot;: 0.095, &quot;Tl_ppm&quot;: 0.0, &quot;Tm_ppb&quot;: 0.39637475, &quot;U_ppm&quot;: 2.4486084999999997, &quot;V_ppm&quot;: 152.375, &quot;W_ppm&quot;: 2.5, &quot;Y_ppm&quot;: 19.85, &quot;Yb_ppb&quot;: 2.77542225, &quot;Zn_ppm&quot;: 42.05, &quot;Zr_ppm&quot;: 292.075, &quot;bouguer_an&quot;: -87.83333333333333, &quot;dyke_count&quot;: 1, &quot;dyke_distance&quot;: 22284.06981005495, &quot;elevation&quot;: 443.5, &quot;fault_count&quot;: 1, &quot;fault_distance&quot;: 15062.466678291123, &quot;fold_count&quot;: 1, &quot;fold_distance&quot;: 161.38246819177408, &quot;lineament_count&quot;: 12, &quot;lineament_distance&quot;: 1035.9581259829633, &quot;observed_g&quot;: 978176.3333333334, &quot;predicted_prob&quot;: 0.9638307094573975, &quot;predicted_target&quot;: 1, &quot;target&quot;: 0, &quot;theoretical_g&quot;: 978352.1666666666}, &quot;type&quot;: &quot;Feature&quot;}], &quot;type&quot;: &quot;FeatureCollection&quot;});\n",
              "        geo_json_cc088ce4b2ac3fdca684331a84699c5c.setStyle(function(feature) {return feature.properties.style;});\n",
              "\n",
              "        \n",
              "    \n",
              "    geo_json_cc088ce4b2ac3fdca684331a84699c5c.bindTooltip(\n",
              "    function(layer){\n",
              "    let div = L.DomUtil.create(&#x27;div&#x27;);\n",
              "    \n",
              "    let handleObject = feature =&gt; {\n",
              "        if (feature === null) {\n",
              "            return &#x27;&#x27;;\n",
              "        } else if (typeof(feature)==&#x27;object&#x27;) {\n",
              "            return JSON.stringify(feature);\n",
              "        } else {\n",
              "            return feature;\n",
              "        }\n",
              "    }\n",
              "    let fields = [&quot;predicted_prob&quot;];\n",
              "    let aliases = [&quot;Predicted Probability: &quot;];\n",
              "    let table = &#x27;&lt;table&gt;&#x27; +\n",
              "        String(\n",
              "        fields.map(\n",
              "        (v,i)=&gt;\n",
              "        `&lt;tr&gt;\n",
              "            &lt;th&gt;${aliases[i]}&lt;/th&gt;\n",
              "            \n",
              "            &lt;td&gt;${handleObject(layer.feature.properties[v])}&lt;/td&gt;\n",
              "        &lt;/tr&gt;`).join(&#x27;&#x27;))\n",
              "    +&#x27;&lt;/table&gt;&#x27;;\n",
              "    div.innerHTML=table;\n",
              "    \n",
              "    return div\n",
              "    }\n",
              "    ,{\n",
              "  &quot;sticky&quot;: true,\n",
              "  &quot;className&quot;: &quot;foliumtooltip&quot;,\n",
              "});\n",
              "                     \n",
              "    \n",
              "            geo_json_cc088ce4b2ac3fdca684331a84699c5c.addTo(map_2dde410deda768a5f8b1f5c29621e036);\n",
              "        \n",
              "    \n",
              "            var layer_control_41fe0482be17a50ced352d05c41d9d52_layers = {\n",
              "                base_layers : {\n",
              "                    &quot;openstreetmap&quot; : tile_layer_b58eeaa961a7cee6ef1d74cb7704259e,\n",
              "                },\n",
              "                overlays :  {\n",
              "                    &quot;Predicted New Mineral Zones&quot; : geo_json_cc088ce4b2ac3fdca684331a84699c5c,\n",
              "                },\n",
              "            };\n",
              "            let layer_control_41fe0482be17a50ced352d05c41d9d52 = L.control.layers(\n",
              "                layer_control_41fe0482be17a50ced352d05c41d9d52_layers.base_layers,\n",
              "                layer_control_41fe0482be17a50ced352d05c41d9d52_layers.overlays,\n",
              "                {\n",
              "  &quot;position&quot;: &quot;topright&quot;,\n",
              "  &quot;collapsed&quot;: true,\n",
              "  &quot;autoZIndex&quot;: true,\n",
              "}\n",
              "            ).addTo(map_2dde410deda768a5f8b1f5c29621e036);\n",
              "\n",
              "        \n",
              "&lt;/script&gt;\n",
              "&lt;/html&gt;\" style=\"position:absolute;width:100%;height:100%;left:0;top:0;border:none !important;\" allowfullscreen webkitallowfullscreen mozallowfullscreen></iframe></div></div>"
            ]
          },
          "metadata": {}
        }
      ]
    },
    {
      "cell_type": "markdown",
      "source": [
        "**#Visualizing Predicted Mineral Zone Centroids on Map\n",
        "Displaying the centroid points of predicted new mineral zones using Folium for a simplified and interactive geospatial overview**"
      ],
      "metadata": {
        "id": "Ta7XLf5Dnbci"
      }
    },
    {
      "cell_type": "code",
      "source": [
        "\n",
        "if not new_mineral_zones.empty:\n",
        "    # Convert the predicted mineral zones to WGS84 for Folium\n",
        "    new_mineral_zones_wgs84 = new_mineral_zones.to_crs(\"EPSG:4326\")\n",
        "\n",
        "    # Find the centroid of the new mineral zones for map centering\n",
        "    center_point = new_mineral_zones_wgs84.geometry.unary_union.centroid\n",
        "\n",
        "    # Create a Folium map centered around the predicted zones\n",
        "    m = folium.Map(location=[center_point.y, center_point.x], zoom_start=8)\n",
        "\n",
        "    # Add the *centroids* of the predicted new mineral zones as points to the map\n",
        "    # Create a GeoDataFrame of centroids from the predicted polygon geometries\n",
        "    new_mineral_centroids_wgs84 = gpd.GeoDataFrame(\n",
        "        new_mineral_zones_wgs84.drop(columns='geometry'),\n",
        "        geometry=new_mineral_zones_wgs84.geometry.centroid,\n",
        "        crs=\"EPSG:4326\"\n",
        "    )\n",
        "\n",
        "\n",
        "    # Add the centroids as points to the map\n",
        "    folium.GeoJson(\n",
        "        new_mineral_centroids_wgs84,\n",
        "        name='Predicted New Mineral Zones (Points)',\n",
        "        tooltip=folium.features.GeoJsonTooltip(fields=['predicted_prob'], aliases=['Predicted Probability: '])\n",
        "    ).add_to(m)\n",
        "\n",
        "    # Add layer control to toggle layers\n",
        "    folium.LayerControl().add_to(m)\n",
        "\n",
        "    # Display the map\n",
        "    display(m) # Use display for showing the map in Colab/Jupyter\n",
        "else:\n",
        "    print(\"No new mineral zones predicted to plot on the map.\")\n"
      ],
      "metadata": {
        "id": "qNUFIOUI11cD",
        "colab": {
          "base_uri": "https://localhost:8080/",
          "height": 972
        },
        "outputId": "843bc577-d5d9-4b57-a26a-bd845ced386e"
      },
      "execution_count": null,
      "outputs": [
        {
          "output_type": "stream",
          "name": "stderr",
          "text": [
            "<ipython-input-21-1825854069>:6: DeprecationWarning: The 'unary_union' attribute is deprecated, use the 'union_all()' method instead.\n",
            "  center_point = new_mineral_zones_wgs84.geometry.unary_union.centroid\n",
            "<ipython-input-21-1825854069>:15: UserWarning: Geometry is in a geographic CRS. Results from 'centroid' are likely incorrect. Use 'GeoSeries.to_crs()' to re-project geometries to a projected CRS before this operation.\n",
            "\n",
            "  geometry=new_mineral_zones_wgs84.geometry.centroid,\n"
          ]
        },
        {
          "output_type": "display_data",
          "data": {
            "text/plain": [
              "<folium.folium.Map at 0x7bd6540dc950>"
            ],
            "text/html": [
              "<div style=\"width:100%;\"><div style=\"position:relative;width:100%;height:0;padding-bottom:60%;\"><span style=\"color:#565656\">Make this Notebook Trusted to load map: File -> Trust Notebook</span><iframe srcdoc=\"&lt;!DOCTYPE html&gt;\n",
              "&lt;html&gt;\n",
              "&lt;head&gt;\n",
              "    \n",
              "    &lt;meta http-equiv=&quot;content-type&quot; content=&quot;text/html; charset=UTF-8&quot; /&gt;\n",
              "    &lt;script src=&quot;https://cdn.jsdelivr.net/npm/leaflet@1.9.3/dist/leaflet.js&quot;&gt;&lt;/script&gt;\n",
              "    &lt;script src=&quot;https://code.jquery.com/jquery-3.7.1.min.js&quot;&gt;&lt;/script&gt;\n",
              "    &lt;script src=&quot;https://cdn.jsdelivr.net/npm/bootstrap@5.2.2/dist/js/bootstrap.bundle.min.js&quot;&gt;&lt;/script&gt;\n",
              "    &lt;script src=&quot;https://cdnjs.cloudflare.com/ajax/libs/Leaflet.awesome-markers/2.0.2/leaflet.awesome-markers.js&quot;&gt;&lt;/script&gt;\n",
              "    &lt;link rel=&quot;stylesheet&quot; href=&quot;https://cdn.jsdelivr.net/npm/leaflet@1.9.3/dist/leaflet.css&quot;/&gt;\n",
              "    &lt;link rel=&quot;stylesheet&quot; href=&quot;https://cdn.jsdelivr.net/npm/bootstrap@5.2.2/dist/css/bootstrap.min.css&quot;/&gt;\n",
              "    &lt;link rel=&quot;stylesheet&quot; href=&quot;https://netdna.bootstrapcdn.com/bootstrap/3.0.0/css/bootstrap-glyphicons.css&quot;/&gt;\n",
              "    &lt;link rel=&quot;stylesheet&quot; href=&quot;https://cdn.jsdelivr.net/npm/@fortawesome/fontawesome-free@6.2.0/css/all.min.css&quot;/&gt;\n",
              "    &lt;link rel=&quot;stylesheet&quot; href=&quot;https://cdnjs.cloudflare.com/ajax/libs/Leaflet.awesome-markers/2.0.2/leaflet.awesome-markers.css&quot;/&gt;\n",
              "    &lt;link rel=&quot;stylesheet&quot; href=&quot;https://cdn.jsdelivr.net/gh/python-visualization/folium/folium/templates/leaflet.awesome.rotate.min.css&quot;/&gt;\n",
              "    \n",
              "            &lt;meta name=&quot;viewport&quot; content=&quot;width=device-width,\n",
              "                initial-scale=1.0, maximum-scale=1.0, user-scalable=no&quot; /&gt;\n",
              "            &lt;style&gt;\n",
              "                #map_33c2f1bbc775620cbfd15e81368ec774 {\n",
              "                    position: relative;\n",
              "                    width: 100.0%;\n",
              "                    height: 100.0%;\n",
              "                    left: 0.0%;\n",
              "                    top: 0.0%;\n",
              "                }\n",
              "                .leaflet-container { font-size: 1rem; }\n",
              "            &lt;/style&gt;\n",
              "\n",
              "            &lt;style&gt;html, body {\n",
              "                width: 100%;\n",
              "                height: 100%;\n",
              "                margin: 0;\n",
              "                padding: 0;\n",
              "            }\n",
              "            &lt;/style&gt;\n",
              "\n",
              "            &lt;style&gt;#map {\n",
              "                position:absolute;\n",
              "                top:0;\n",
              "                bottom:0;\n",
              "                right:0;\n",
              "                left:0;\n",
              "                }\n",
              "            &lt;/style&gt;\n",
              "\n",
              "            &lt;script&gt;\n",
              "                L_NO_TOUCH = false;\n",
              "                L_DISABLE_3D = false;\n",
              "            &lt;/script&gt;\n",
              "\n",
              "        \n",
              "    \n",
              "                    &lt;style&gt;\n",
              "                        .foliumtooltip {\n",
              "                            \n",
              "                        }\n",
              "                       .foliumtooltip table{\n",
              "                            margin: auto;\n",
              "                        }\n",
              "                        .foliumtooltip tr{\n",
              "                            text-align: left;\n",
              "                        }\n",
              "                        .foliumtooltip th{\n",
              "                            padding: 2px; padding-right: 8px;\n",
              "                        }\n",
              "                    &lt;/style&gt;\n",
              "            \n",
              "&lt;/head&gt;\n",
              "&lt;body&gt;\n",
              "    \n",
              "    \n",
              "            &lt;div class=&quot;folium-map&quot; id=&quot;map_33c2f1bbc775620cbfd15e81368ec774&quot; &gt;&lt;/div&gt;\n",
              "        \n",
              "&lt;/body&gt;\n",
              "&lt;script&gt;\n",
              "    \n",
              "    \n",
              "            var map_33c2f1bbc775620cbfd15e81368ec774 = L.map(\n",
              "                &quot;map_33c2f1bbc775620cbfd15e81368ec774&quot;,\n",
              "                {\n",
              "                    center: [14.320043796508696, 77.55365124833233],\n",
              "                    crs: L.CRS.EPSG3857,\n",
              "                    ...{\n",
              "  &quot;zoom&quot;: 8,\n",
              "  &quot;zoomControl&quot;: true,\n",
              "  &quot;preferCanvas&quot;: false,\n",
              "}\n",
              "\n",
              "                }\n",
              "            );\n",
              "\n",
              "            \n",
              "\n",
              "        \n",
              "    \n",
              "            var tile_layer_477e25019ebfe7b0ae3b59011f1d7b20 = L.tileLayer(\n",
              "                &quot;https://tile.openstreetmap.org/{z}/{x}/{y}.png&quot;,\n",
              "                {\n",
              "  &quot;minZoom&quot;: 0,\n",
              "  &quot;maxZoom&quot;: 19,\n",
              "  &quot;maxNativeZoom&quot;: 19,\n",
              "  &quot;noWrap&quot;: false,\n",
              "  &quot;attribution&quot;: &quot;\\u0026copy; \\u003ca href=\\&quot;https://www.openstreetmap.org/copyright\\&quot;\\u003eOpenStreetMap\\u003c/a\\u003e contributors&quot;,\n",
              "  &quot;subdomains&quot;: &quot;abc&quot;,\n",
              "  &quot;detectRetina&quot;: false,\n",
              "  &quot;tms&quot;: false,\n",
              "  &quot;opacity&quot;: 1,\n",
              "}\n",
              "\n",
              "            );\n",
              "        \n",
              "    \n",
              "            tile_layer_477e25019ebfe7b0ae3b59011f1d7b20.addTo(map_33c2f1bbc775620cbfd15e81368ec774);\n",
              "        \n",
              "    \n",
              "\n",
              "        function geo_json_1294755781aba3a8c1e0aa0b577c2726_onEachFeature(feature, layer) {\n",
              "\n",
              "            layer.on({\n",
              "            });\n",
              "        };\n",
              "        var geo_json_1294755781aba3a8c1e0aa0b577c2726 = L.geoJson(null, {\n",
              "                onEachFeature: geo_json_1294755781aba3a8c1e0aa0b577c2726_onEachFeature,\n",
              "            \n",
              "            ...{\n",
              "}\n",
              "        });\n",
              "\n",
              "        function geo_json_1294755781aba3a8c1e0aa0b577c2726_add (data) {\n",
              "            geo_json_1294755781aba3a8c1e0aa0b577c2726\n",
              "                .addData(data);\n",
              "        }\n",
              "            geo_json_1294755781aba3a8c1e0aa0b577c2726_add({&quot;bbox&quot;: [77.50369966838012, 14.271588446192377, 77.57944866299756, 14.416108899873825], &quot;features&quot;: [{&quot;bbox&quot;: [77.50369966838012, 14.27237895159327, 77.50369966838012, 14.27237895159327], &quot;geometry&quot;: {&quot;coordinates&quot;: [77.50369966838012, 14.27237895159327], &quot;type&quot;: &quot;Point&quot;}, &quot;id&quot;: &quot;2254&quot;, &quot;properties&quot;: {&quot;Ag_ppm&quot;: 18.25, &quot;Al2O3__&quot;: 15.3225, &quot;As_ppm&quot;: 26.87, &quot;Au_ppb&quot;: 5.125, &quot;Ba_ppm&quot;: 599.05, &quot;Be_ppm&quot;: 1.2806425, &quot;Bi_ppm&quot;: 0.1875, &quot;CaO__&quot;: 2.895, &quot;Cd_ppm&quot;: 50.0, &quot;Ce_ppb&quot;: 37.0024265, &quot;Co_ppm&quot;: 31.325, &quot;Cr_ppm&quot;: 405.225, &quot;Cs_ppm&quot;: 5.0, &quot;Cu_ppm&quot;: 53.275, &quot;Density (g/cc)&quot;: 2.72, &quot;Dy_ppb&quot;: 4.36546925, &quot;Er_ppb&quot;: 2.583177, &quot;Eu_ppb&quot;: 1.1376724999999999, &quot;F_ppm&quot;: 0.0, &quot;Fe2O3__&quot;: 7.3725, &quot;Ga_ppm&quot;: 19.675, &quot;Gd_ppb&quot;: 4.094906, &quot;Ge_ppm&quot;: 1.2743315, &quot;Hf_ppm&quot;: 7.912320500000001, &quot;Hg_ppb&quot;: 13.75, &quot;Ho_ppb&quot;: 0.90024025, &quot;In_ppm&quot;: 0.0, &quot;K2O__&quot;: 0.845, &quot;LOI&quot;: 7.551557, &quot;La_ppb&quot;: 17.83365075, &quot;Li_ppm&quot;: 10.0, &quot;Lu_ppb&quot;: 0.49610675, &quot;MgO__&quot;: 3.4325, &quot;MnO__&quot;: 2.03, &quot;Mo_ppm&quot;: 2.5, &quot;Na2O__&quot;: 2.1, &quot;Nb_ppm&quot;: 10.125, &quot;Nd_ppb&quot;: 17.71847525, &quot;Ni_ppm&quot;: 105.025, &quot;P2O5__&quot;: 0.09, &quot;Pb_ppm&quot;: 18.725, &quot;Pd_ppb&quot;: 0.0, &quot;Pr_ppb&quot;: 4.3149715, &quot;Pt_ppb&quot;: 0.0, &quot;Rb_ppm&quot;: 79.65, &quot;Sb_ppm&quot;: 0.5125, &quot;Sc_ppm&quot;: 18.225, &quot;Se_ppm&quot;: 0.125, &quot;Si02__&quot;: 57.506, &quot;Sm_ppb&quot;: 3.69357, &quot;Sn_ppm&quot;: 2.5, &quot;Sr_ppm&quot;: 171.4, &quot;Susceptibility(X 10^(-6) CGS units)&quot;: 20.55, &quot;Ta_ppm&quot;: 0.93384375, &quot;Tb_ppb&quot;: 0.723538, &quot;Te_ppm&quot;: 0.0, &quot;Th_ppm&quot;: 9.65, &quot;TiO2__&quot;: 0.1375, &quot;Tl_ppm&quot;: 0.0, &quot;Tm_ppb&quot;: 0.4605635, &quot;U_ppm&quot;: 2.22290025, &quot;V_ppm&quot;: 233.8, &quot;W_ppm&quot;: 2.5, &quot;Y_ppm&quot;: 21.65, &quot;Yb_ppb&quot;: 3.0448175, &quot;Zn_ppm&quot;: 51.8, &quot;Zr_ppm&quot;: 211.225, &quot;bouguer_an&quot;: -75.0, &quot;dyke_count&quot;: 1, &quot;dyke_distance&quot;: 29939.066794033846, &quot;elevation&quot;: 553.3, &quot;fault_count&quot;: 1, &quot;fault_distance&quot;: 27635.76431209525, &quot;fold_count&quot;: 1, &quot;fold_distance&quot;: 1324.5924071366906, &quot;lineament_count&quot;: 12, &quot;lineament_distance&quot;: 848.1035972654845, &quot;observed_g&quot;: 978161.4, &quot;predicted_prob&quot;: 0.9984026551246643, &quot;predicted_target&quot;: 1, &quot;target&quot;: 0, &quot;theoretical_g&quot;: 978345.9}, &quot;type&quot;: &quot;Feature&quot;}, {&quot;bbox&quot;: [77.5777947766098, 14.271588446192377, 77.5777947766098, 14.271588446192377], &quot;geometry&quot;: {&quot;coordinates&quot;: [77.5777947766098, 14.271588446192377], &quot;type&quot;: &quot;Point&quot;}, &quot;id&quot;: &quot;2366&quot;, &quot;properties&quot;: {&quot;Ag_ppm&quot;: 34.0, &quot;Al2O3__&quot;: 15.412749999999999, &quot;As_ppm&quot;: 6.2075, &quot;Au_ppb&quot;: 3.125, &quot;Ba_ppm&quot;: 711.725, &quot;Be_ppm&quot;: 0.943137, &quot;Bi_ppm&quot;: 0.0675, &quot;CaO__&quot;: 1.9649999999999999, &quot;Cd_ppm&quot;: 50.0, &quot;Ce_ppb&quot;: 41.366104, &quot;Co_ppm&quot;: 14.075, &quot;Cr_ppm&quot;: 102.25, &quot;Cs_ppm&quot;: 5.0, &quot;Cu_ppm&quot;: 28.200000000000003, &quot;Density (g/cc)&quot;: 2.63, &quot;Dy_ppb&quot;: 3.930212, &quot;Er_ppb&quot;: 2.3238835, &quot;Eu_ppb&quot;: 1.14941775, &quot;F_ppm&quot;: 0.0, &quot;Fe2O3__&quot;: 4.985, &quot;Ga_ppm&quot;: 13.65, &quot;Gd_ppb&quot;: 3.65970725, &quot;Ge_ppm&quot;: 0.96444525, &quot;Hf_ppm&quot;: 14.077218, &quot;Hg_ppb&quot;: 10.625, &quot;Ho_ppb&quot;: 0.80376875, &quot;In_ppm&quot;: 0.0, &quot;K2O__&quot;: 0.745, &quot;LOI&quot;: 6.537893, &quot;La_ppb&quot;: 21.563578999999997, &quot;Li_ppm&quot;: 16.25, &quot;Lu_ppb&quot;: 0.444033, &quot;MgO__&quot;: 3.4524999999999997, &quot;MnO__&quot;: 1.9049999999999998, &quot;Mo_ppm&quot;: 2.5, &quot;Na2O__&quot;: 2.4275, &quot;Nb_ppm&quot;: 7.7, &quot;Nd_ppb&quot;: 18.42014875, &quot;Ni_ppm&quot;: 35.375, &quot;P2O5__&quot;: 0.105, &quot;Pb_ppm&quot;: 19.25, &quot;Pd_ppb&quot;: 0.0, &quot;Pr_ppb&quot;: 4.77687025, &quot;Pt_ppb&quot;: 0.0, &quot;Rb_ppm&quot;: 72.15, &quot;Sb_ppm&quot;: 0.1, &quot;Sc_ppm&quot;: 15.025, &quot;Se_ppm&quot;: 0.0825, &quot;Si02__&quot;: 61.773250000000004, &quot;Sm_ppb&quot;: 3.71598775, &quot;Sn_ppm&quot;: 2.5, &quot;Sr_ppm&quot;: 238.175, &quot;Susceptibility(X 10^(-6) CGS units)&quot;: 33.05, &quot;Ta_ppm&quot;: 0.8107145, &quot;Tb_ppb&quot;: 0.63192525, &quot;Te_ppm&quot;: 0.0, &quot;Th_ppm&quot;: 8.625, &quot;TiO2__&quot;: 0.07, &quot;Tl_ppm&quot;: 0.0, &quot;Tm_ppb&quot;: 0.4098365, &quot;U_ppm&quot;: 2.275647, &quot;V_ppm&quot;: 115.675, &quot;W_ppm&quot;: 2.5, &quot;Y_ppm&quot;: 22.375, &quot;Yb_ppb&quot;: 2.6589157500000002, &quot;Zn_ppm&quot;: 36.025, &quot;Zr_ppm&quot;: 360.725, &quot;bouguer_an&quot;: -85.66666666666667, &quot;dyke_count&quot;: 1, &quot;dyke_distance&quot;: 36651.472526457306, &quot;elevation&quot;: 446.0, &quot;fault_count&quot;: 1, &quot;fault_distance&quot;: 21255.638019197693, &quot;fold_count&quot;: 1, &quot;fold_distance&quot;: 4016.2632676101766, &quot;lineament_count&quot;: 4, &quot;lineament_distance&quot;: 1187.736003639728, &quot;observed_g&quot;: 978172.3333333334, &quot;predicted_prob&quot;: 0.8517311811447144, &quot;predicted_target&quot;: 1, &quot;target&quot;: 0, &quot;theoretical_g&quot;: 978345.8333333334}, &quot;type&quot;: &quot;Feature&quot;}, {&quot;bbox&quot;: [77.57944866299756, 14.416108899873825, 77.57944866299756, 14.416108899873825], &quot;geometry&quot;: {&quot;coordinates&quot;: [77.57944866299756, 14.416108899873825], &quot;type&quot;: &quot;Point&quot;}, &quot;id&quot;: &quot;2370&quot;, &quot;properties&quot;: {&quot;Ag_ppm&quot;: 12.5, &quot;Al2O3__&quot;: 16.4525, &quot;As_ppm&quot;: 11.9975, &quot;Au_ppb&quot;: 1.5, &quot;Ba_ppm&quot;: 641.85, &quot;Be_ppm&quot;: 1.0189825, &quot;Bi_ppm&quot;: 0.09, &quot;CaO__&quot;: 1.3900000000000001, &quot;Cd_ppm&quot;: 50.0, &quot;Ce_ppb&quot;: 39.8106015, &quot;Co_ppm&quot;: 18.7, &quot;Cr_ppm&quot;: 85.6, &quot;Cs_ppm&quot;: 5.0, &quot;Cu_ppm&quot;: 40.525, &quot;Density (g/cc)&quot;: 2.736666666666667, &quot;Dy_ppb&quot;: 3.8998975, &quot;Er_ppb&quot;: 2.3185587500000002, &quot;Eu_ppb&quot;: 1.2589325, &quot;F_ppm&quot;: 0.0, &quot;Fe2O3__&quot;: 6.1425, &quot;Ga_ppm&quot;: 15.9, &quot;Gd_ppb&quot;: 3.4702825, &quot;Ge_ppm&quot;: 1.1320955000000001, &quot;Hf_ppm&quot;: 10.39630125, &quot;Hg_ppb&quot;: 8.5, &quot;Ho_ppb&quot;: 0.80719275, &quot;In_ppm&quot;: 0.0, &quot;K2O__&quot;: 0.9025000000000001, &quot;LOI&quot;: 5.73033475, &quot;La_ppb&quot;: 20.48443475, &quot;Li_ppm&quot;: 13.75, &quot;Lu_ppb&quot;: 0.45449775, &quot;MgO__&quot;: 3.4025, &quot;MnO__&quot;: 2.465, &quot;Mo_ppm&quot;: 2.5, &quot;Na2O__&quot;: 2.3899999999999997, &quot;Nb_ppm&quot;: 8.0, &quot;Nd_ppb&quot;: 17.4160555, &quot;Ni_ppm&quot;: 37.125, &quot;P2O5__&quot;: 0.09, &quot;Pb_ppm&quot;: 17.95, &quot;Pd_ppb&quot;: 0.0, &quot;Pr_ppb&quot;: 4.3808810000000005, &quot;Pt_ppb&quot;: 0.0, &quot;Rb_ppm&quot;: 68.225, &quot;Sb_ppm&quot;: 0.1625, &quot;Sc_ppm&quot;: 16.725, &quot;Se_ppm&quot;: 0.1775, &quot;Si02__&quot;: 60.2545, &quot;Sm_ppb&quot;: 3.525658, &quot;Sn_ppm&quot;: 2.5, &quot;Sr_ppm&quot;: 235.8, &quot;Susceptibility(X 10^(-6) CGS units)&quot;: 224.48333333333335, &quot;Ta_ppm&quot;: 0.78069975, &quot;Tb_ppb&quot;: 0.590966, &quot;Te_ppm&quot;: 0.0, &quot;Th_ppm&quot;: 9.975, &quot;TiO2__&quot;: 0.095, &quot;Tl_ppm&quot;: 0.0, &quot;Tm_ppb&quot;: 0.39637475, &quot;U_ppm&quot;: 2.4486084999999997, &quot;V_ppm&quot;: 152.375, &quot;W_ppm&quot;: 2.5, &quot;Y_ppm&quot;: 19.85, &quot;Yb_ppb&quot;: 2.77542225, &quot;Zn_ppm&quot;: 42.05, &quot;Zr_ppm&quot;: 292.075, &quot;bouguer_an&quot;: -87.83333333333333, &quot;dyke_count&quot;: 1, &quot;dyke_distance&quot;: 22284.06981005495, &quot;elevation&quot;: 443.5, &quot;fault_count&quot;: 1, &quot;fault_distance&quot;: 15062.466678291123, &quot;fold_count&quot;: 1, &quot;fold_distance&quot;: 161.38246819177408, &quot;lineament_count&quot;: 12, &quot;lineament_distance&quot;: 1035.9581259829633, &quot;observed_g&quot;: 978176.3333333334, &quot;predicted_prob&quot;: 0.9638307094573975, &quot;predicted_target&quot;: 1, &quot;target&quot;: 0, &quot;theoretical_g&quot;: 978352.1666666666}, &quot;type&quot;: &quot;Feature&quot;}], &quot;type&quot;: &quot;FeatureCollection&quot;});\n",
              "        geo_json_1294755781aba3a8c1e0aa0b577c2726.setStyle(function(feature) {return feature.properties.style;});\n",
              "\n",
              "        \n",
              "    \n",
              "    geo_json_1294755781aba3a8c1e0aa0b577c2726.bindTooltip(\n",
              "    function(layer){\n",
              "    let div = L.DomUtil.create(&#x27;div&#x27;);\n",
              "    \n",
              "    let handleObject = feature =&gt; {\n",
              "        if (feature === null) {\n",
              "            return &#x27;&#x27;;\n",
              "        } else if (typeof(feature)==&#x27;object&#x27;) {\n",
              "            return JSON.stringify(feature);\n",
              "        } else {\n",
              "            return feature;\n",
              "        }\n",
              "    }\n",
              "    let fields = [&quot;predicted_prob&quot;];\n",
              "    let aliases = [&quot;Predicted Probability: &quot;];\n",
              "    let table = &#x27;&lt;table&gt;&#x27; +\n",
              "        String(\n",
              "        fields.map(\n",
              "        (v,i)=&gt;\n",
              "        `&lt;tr&gt;\n",
              "            &lt;th&gt;${aliases[i]}&lt;/th&gt;\n",
              "            \n",
              "            &lt;td&gt;${handleObject(layer.feature.properties[v])}&lt;/td&gt;\n",
              "        &lt;/tr&gt;`).join(&#x27;&#x27;))\n",
              "    +&#x27;&lt;/table&gt;&#x27;;\n",
              "    div.innerHTML=table;\n",
              "    \n",
              "    return div\n",
              "    }\n",
              "    ,{\n",
              "  &quot;sticky&quot;: true,\n",
              "  &quot;className&quot;: &quot;foliumtooltip&quot;,\n",
              "});\n",
              "                     \n",
              "    \n",
              "            geo_json_1294755781aba3a8c1e0aa0b577c2726.addTo(map_33c2f1bbc775620cbfd15e81368ec774);\n",
              "        \n",
              "    \n",
              "            var layer_control_340a457e86bb119e4a1fa72491365cf4_layers = {\n",
              "                base_layers : {\n",
              "                    &quot;openstreetmap&quot; : tile_layer_477e25019ebfe7b0ae3b59011f1d7b20,\n",
              "                },\n",
              "                overlays :  {\n",
              "                    &quot;Predicted New Mineral Zones (Points)&quot; : geo_json_1294755781aba3a8c1e0aa0b577c2726,\n",
              "                },\n",
              "            };\n",
              "            let layer_control_340a457e86bb119e4a1fa72491365cf4 = L.control.layers(\n",
              "                layer_control_340a457e86bb119e4a1fa72491365cf4_layers.base_layers,\n",
              "                layer_control_340a457e86bb119e4a1fa72491365cf4_layers.overlays,\n",
              "                {\n",
              "  &quot;position&quot;: &quot;topright&quot;,\n",
              "  &quot;collapsed&quot;: true,\n",
              "  &quot;autoZIndex&quot;: true,\n",
              "}\n",
              "            ).addTo(map_33c2f1bbc775620cbfd15e81368ec774);\n",
              "\n",
              "        \n",
              "&lt;/script&gt;\n",
              "&lt;/html&gt;\" style=\"position:absolute;width:100%;height:100%;left:0;top:0;border:none !important;\" allowfullscreen webkitallowfullscreen mozallowfullscreen></iframe></div></div>"
            ]
          },
          "metadata": {}
        }
      ]
    },
    {
      "cell_type": "code",
      "source": [],
      "metadata": {
        "id": "hBq-5OCD7Nwf"
      },
      "execution_count": null,
      "outputs": []
    }
  ],
  "metadata": {
    "colab": {
      "provenance": []
    },
    "kernelspec": {
      "display_name": "Python 3",
      "name": "python3"
    },
    "language_info": {
      "name": "python"
    }
  },
  "nbformat": 4,
  "nbformat_minor": 0
}