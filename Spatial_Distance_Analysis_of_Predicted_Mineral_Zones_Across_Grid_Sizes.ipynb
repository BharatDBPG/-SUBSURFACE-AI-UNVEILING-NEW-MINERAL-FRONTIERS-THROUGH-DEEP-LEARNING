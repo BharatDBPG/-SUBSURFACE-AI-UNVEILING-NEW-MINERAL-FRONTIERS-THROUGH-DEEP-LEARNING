{
  "nbformat": 4,
  "nbformat_minor": 0,
  "metadata": {
    "colab": {
      "provenance": []
    },
    "kernelspec": {
      "name": "python3",
      "display_name": "Python 3"
    },
    "language_info": {
      "name": "python"
    }
  },
  "cells": [
    {
      "cell_type": "code",
      "source": [
        "# 4km predicted polygons\n",
        "region_A = wkt.loads(\"POLYGON ((772131.030566 1577306.158207, 772131.030566 1581306.158207, 768131.030566 1581306.158207, 768131.030566 1577306.158207, 772131.030566 1577306.158207))\")\n",
        "\n",
        "region_B = wkt.loads(\"POLYGON ((780131.030566 1577306.158207, 780131.030566 1581306.158207, 776131.030566 1581306.158207, 776131.030566 1577306.158207, 780131.030566 1577306.158207))\")\n",
        "\n",
        "region_C = wkt.loads(\"POLYGON ((780131.030566 1593306.158207, 780131.030566 1597306.158207, 776131.030566 1597306.158207, 776131.030566 1593306.158207, 780131.030566 1593306.158207))\")\n",
        "\n",
        "# 3km and 5km predicted polygons\n",
        "region_3km = wkt.loads(\"POLYGON ((728131.030566 1563306.158207, 728131.030566 1566306.158207, 725131.030566 1566306.158207, 725131.030566 1563306.158207, 728131.030566 1563306.158207))\")\n",
        "\n",
        "region_5km = wkt.loads(\"POLYGON ((778131.030566 1596306.158207, 778131.030566 1601306.158207, 773131.030566 1601306.158207, 773131.030566 1596306.158207, 778131.030566 1596306.158207))\")\n"
      ],
      "metadata": {
        "id": "3iq8ImXdi1jx"
      },
      "execution_count": 37,
      "outputs": []
    },
    {
      "cell_type": "code",
      "source": [
        "# Centroids\n",
        "cent_A = region_A.centroid\n",
        "cent_B = region_B.centroid\n",
        "cent_C = region_C.centroid\n",
        "cent_3km = region_3km.centroid\n",
        "cent_5km = region_5km.centroid\n"
      ],
      "metadata": {
        "id": "ANDVmrTRjoZA"
      },
      "execution_count": 38,
      "outputs": []
    },
    {
      "cell_type": "code",
      "source": [
        "# Between 4km regions\n",
        "dist_A_B = cent_A.distance(cent_B) / 1000\n",
        "dist_A_C = cent_A.distance(cent_C) / 1000\n",
        "dist_B_C = cent_B.distance(cent_C) / 1000\n",
        "\n",
        "# From 4km to 3km\n",
        "dist_A_3km = cent_A.distance(cent_3km) / 1000\n",
        "dist_B_3km = cent_B.distance(cent_3km) / 1000\n",
        "dist_C_3km = cent_C.distance(cent_3km) / 1000\n",
        "\n",
        "# From 4km to 5km\n",
        "dist_A_5km = cent_A.distance(cent_5km) / 1000\n",
        "dist_B_5km = cent_B.distance(cent_5km) / 1000\n",
        "dist_C_5km = cent_C.distance(cent_5km) / 1000\n",
        "\n",
        "# Between 3km and 5km\n",
        "dist_3km_5km = cent_3km.distance(cent_5km) / 1000\n"
      ],
      "metadata": {
        "id": "yOCHwdrLjqYa"
      },
      "execution_count": 39,
      "outputs": []
    },
    {
      "cell_type": "code",
      "source": [
        "print(\"Distance Between 4km Regions:\")\n",
        "print(f\"  A ↔ B: {dist_A_B:.2f} km\")\n",
        "print(f\"  A ↔ C: {dist_A_C:.2f} km\")\n",
        "print(f\"  B ↔ C: {dist_B_C:.2f} km\\n\")\n",
        "\n",
        "print(\"Distance from 4km Regions to 3km:\")\n",
        "print(f\"  A → 3km: {dist_A_3km:.2f} km\")\n",
        "print(f\"  B → 3km: {dist_B_3km:.2f} km\")\n",
        "print(f\"  C → 3km: {dist_C_3km:.2f} km\\n\")\n",
        "\n",
        "print(\"Distance from 4km Regions to 5km:\")\n",
        "print(f\"  A → 5km: {dist_A_5km:.2f} km\")\n",
        "print(f\"  B → 5km: {dist_B_5km:.2f} km\")\n",
        "print(f\"  C → 5km: {dist_C_5km:.2f} km\\n\")\n",
        "\n",
        "print(\" Distance Between 3km and 5km:\")\n",
        "print(f\"  3km ↔ 5km: {dist_3km_5km:.2f} km\")\n"
      ],
      "metadata": {
        "colab": {
          "base_uri": "https://localhost:8080/"
        },
        "id": "oTRwp5F0jsMl",
        "outputId": "15e883cd-1883-45ed-b5d8-4f60f7559356"
      },
      "execution_count": 40,
      "outputs": [
        {
          "output_type": "stream",
          "name": "stdout",
          "text": [
            "Distance Between 4km Regions:\n",
            "  A ↔ B: 8.00 km\n",
            "  A ↔ C: 17.89 km\n",
            "  B ↔ C: 16.00 km\n",
            "\n",
            "Distance from 4km Regions to 3km:\n",
            "  A → 3km: 45.85 km\n",
            "  B → 3km: 53.50 km\n",
            "  C → 3km: 59.85 km\n",
            "\n",
            "Distance from 4km Regions to 5km:\n",
            "  A → 5km: 20.26 km\n",
            "  B → 5km: 19.66 km\n",
            "  C → 5km: 4.30 km\n",
            "\n",
            " Distance Between 3km and 5km:\n",
            "  3km ↔ 5km: 59.64 km\n"
          ]
        }
      ]
    }
  ]
}